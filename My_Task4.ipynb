{
  "cells": [
    {
      "cell_type": "markdown",
      "metadata": {
        "id": "view-in-github",
        "colab_type": "text"
      },
      "source": [
        "<a href=\"https://colab.research.google.com/github/vahid-khazaei-nezhad/Data_Science_homework/blob/main/My_Task4.ipynb\" target=\"_parent\"><img src=\"https://colab.research.google.com/assets/colab-badge.svg\" alt=\"Open In Colab\"/></a>"
      ]
    },
    {
      "cell_type": "markdown",
      "metadata": {
        "id": "8520ce76"
      },
      "source": [
        "# Installed libraires"
      ],
      "id": "8520ce76"
    },
    {
      "cell_type": "raw",
      "metadata": {
        "id": "244b1440"
      },
      "source": [
        "opencv-python, \n",
        "scipy, \n",
        "pandas, \n",
        "numpy, \n",
        "scilit-learn, \n",
        "tensorflow, \n",
        "keras, \n",
        "matplotlib, \n",
        "plot-keras-history, \n",
        "more-itertools installed."
      ],
      "id": "244b1440"
    },
    {
      "cell_type": "code",
      "execution_count": 1,
      "metadata": {
        "colab": {
          "base_uri": "https://localhost:8080/"
        },
        "id": "UdPNKWBWaOVc",
        "outputId": "6086a175-f2b8-4c5c-b20e-af4365845eb7"
      },
      "outputs": [
        {
          "output_type": "stream",
          "name": "stdout",
          "text": [
            "Looking in indexes: https://pypi.org/simple, https://us-python.pkg.dev/colab-wheels/public/simple/\n",
            "Collecting plot_keras_history\n",
            "  Downloading plot_keras_history-1.1.36.tar.gz (9.1 kB)\n",
            "Requirement already satisfied: matplotlib in /usr/local/lib/python3.7/dist-packages (from plot_keras_history) (3.2.2)\n",
            "Requirement already satisfied: pandas in /usr/local/lib/python3.7/dist-packages (from plot_keras_history) (1.3.5)\n",
            "Requirement already satisfied: scipy in /usr/local/lib/python3.7/dist-packages (from plot_keras_history) (1.4.1)\n",
            "Collecting sanitize_ml_labels>=1.0.33\n",
            "  Downloading sanitize_ml_labels-1.0.42.tar.gz (323 kB)\n",
            "\u001b[K     |████████████████████████████████| 323 kB 5.3 MB/s \n",
            "\u001b[?25hCollecting compress_json\n",
            "  Downloading compress_json-1.0.7.tar.gz (5.4 kB)\n",
            "Requirement already satisfied: python-dateutil>=2.1 in /usr/local/lib/python3.7/dist-packages (from matplotlib->plot_keras_history) (2.8.2)\n",
            "Requirement already satisfied: pyparsing!=2.0.4,!=2.1.2,!=2.1.6,>=2.0.1 in /usr/local/lib/python3.7/dist-packages (from matplotlib->plot_keras_history) (3.0.9)\n",
            "Requirement already satisfied: cycler>=0.10 in /usr/local/lib/python3.7/dist-packages (from matplotlib->plot_keras_history) (0.11.0)\n",
            "Requirement already satisfied: kiwisolver>=1.0.1 in /usr/local/lib/python3.7/dist-packages (from matplotlib->plot_keras_history) (1.4.3)\n",
            "Requirement already satisfied: numpy>=1.11 in /usr/local/lib/python3.7/dist-packages (from matplotlib->plot_keras_history) (1.21.6)\n",
            "Requirement already satisfied: typing-extensions in /usr/local/lib/python3.7/dist-packages (from kiwisolver>=1.0.1->matplotlib->plot_keras_history) (4.1.1)\n",
            "Requirement already satisfied: six>=1.5 in /usr/local/lib/python3.7/dist-packages (from python-dateutil>=2.1->matplotlib->plot_keras_history) (1.15.0)\n",
            "Requirement already satisfied: pytz>=2017.3 in /usr/local/lib/python3.7/dist-packages (from pandas->plot_keras_history) (2022.1)\n",
            "Building wheels for collected packages: plot-keras-history, sanitize-ml-labels, compress-json\n",
            "  Building wheel for plot-keras-history (setup.py) ... \u001b[?25l\u001b[?25hdone\n",
            "  Created wheel for plot-keras-history: filename=plot_keras_history-1.1.36-py3-none-any.whl size=9236 sha256=9c78c094c49ce16a72b4777010ab051208f9d2da2f3405e742691623a0afc976\n",
            "  Stored in directory: /root/.cache/pip/wheels/ca/73/ed/41022b42c1d9ce60a8a2ebb71f042c7f895673760404d39fd7\n",
            "  Building wheel for sanitize-ml-labels (setup.py) ... \u001b[?25l\u001b[?25hdone\n",
            "  Created wheel for sanitize-ml-labels: filename=sanitize_ml_labels-1.0.42-py3-none-any.whl size=322677 sha256=a525e36cbd7e033e238b327d0a178532a12bfe8138a65514c6ba67f51f5a3bb6\n",
            "  Stored in directory: /root/.cache/pip/wheels/97/31/a0/5ddbb26189896b5d23d83b03bf9a74327a8091a610a6375785\n",
            "  Building wheel for compress-json (setup.py) ... \u001b[?25l\u001b[?25hdone\n",
            "  Created wheel for compress-json: filename=compress_json-1.0.7-py3-none-any.whl size=5233 sha256=90ecce13280f1025a81dcda954709ffb9af604d5fac65e384df5127deee387af\n",
            "  Stored in directory: /root/.cache/pip/wheels/6d/7e/13/0e370d719528969d430498ca952417324595d116776840b279\n",
            "Successfully built plot-keras-history sanitize-ml-labels compress-json\n",
            "Installing collected packages: compress-json, sanitize-ml-labels, plot-keras-history\n",
            "Successfully installed compress-json-1.0.7 plot-keras-history-1.1.36 sanitize-ml-labels-1.0.42\n"
          ]
        }
      ],
      "source": [
        "pip install plot_keras_history"
      ],
      "id": "UdPNKWBWaOVc"
    },
    {
      "cell_type": "code",
      "execution_count": 2,
      "metadata": {
        "colab": {
          "base_uri": "https://localhost:8080/"
        },
        "id": "TUaleYSxaSST",
        "outputId": "15749a68-efa0-4432-adec-51318dc9888d"
      },
      "outputs": [
        {
          "output_type": "stream",
          "name": "stdout",
          "text": [
            "Looking in indexes: https://pypi.org/simple, https://us-python.pkg.dev/colab-wheels/public/simple/\n",
            "Collecting keras.utils\n",
            "  Downloading keras-utils-1.0.13.tar.gz (2.4 kB)\n",
            "Requirement already satisfied: Keras>=2.1.5 in /usr/local/lib/python3.7/dist-packages (from keras.utils) (2.8.0)\n",
            "Building wheels for collected packages: keras.utils\n",
            "  Building wheel for keras.utils (setup.py) ... \u001b[?25l\u001b[?25hdone\n",
            "  Created wheel for keras.utils: filename=keras_utils-1.0.13-py3-none-any.whl size=2656 sha256=452f1b088db0e6b733bba09f4e4bb92e2742d4a8be474834df4dddc4a48e99b3\n",
            "  Stored in directory: /root/.cache/pip/wheels/d0/dd/3b/493952a5240d486a83805d65360dedadbadeae71d25e2c877f\n",
            "Successfully built keras.utils\n",
            "Installing collected packages: keras.utils\n",
            "Successfully installed keras.utils-1.0.13\n"
          ]
        }
      ],
      "source": [
        "pip install keras.utils"
      ],
      "id": "TUaleYSxaSST"
    },
    {
      "cell_type": "code",
      "execution_count": 3,
      "metadata": {
        "colab": {
          "base_uri": "https://localhost:8080/"
        },
        "id": "LshOA6OMaXN6",
        "outputId": "afb1a932-ac4e-480e-f5b4-9e768dd24128"
      },
      "outputs": [
        {
          "output_type": "stream",
          "name": "stdout",
          "text": [
            "Looking in indexes: https://pypi.org/simple, https://us-python.pkg.dev/colab-wheels/public/simple/\n",
            "Collecting keras_tuner\n",
            "  Downloading keras_tuner-1.1.2-py3-none-any.whl (133 kB)\n",
            "\u001b[K     |████████████████████████████████| 133 kB 5.4 MB/s \n",
            "\u001b[?25hRequirement already satisfied: packaging in /usr/local/lib/python3.7/dist-packages (from keras_tuner) (21.3)\n",
            "Requirement already satisfied: tensorboard in /usr/local/lib/python3.7/dist-packages (from keras_tuner) (2.8.0)\n",
            "Requirement already satisfied: ipython in /usr/local/lib/python3.7/dist-packages (from keras_tuner) (5.5.0)\n",
            "Requirement already satisfied: numpy in /usr/local/lib/python3.7/dist-packages (from keras_tuner) (1.21.6)\n",
            "Requirement already satisfied: requests in /usr/local/lib/python3.7/dist-packages (from keras_tuner) (2.23.0)\n",
            "Collecting kt-legacy\n",
            "  Downloading kt_legacy-1.0.4-py3-none-any.whl (9.6 kB)\n",
            "Requirement already satisfied: pygments in /usr/local/lib/python3.7/dist-packages (from ipython->keras_tuner) (2.6.1)\n",
            "Requirement already satisfied: simplegeneric>0.8 in /usr/local/lib/python3.7/dist-packages (from ipython->keras_tuner) (0.8.1)\n",
            "Requirement already satisfied: setuptools>=18.5 in /usr/local/lib/python3.7/dist-packages (from ipython->keras_tuner) (57.4.0)\n",
            "Requirement already satisfied: traitlets>=4.2 in /usr/local/lib/python3.7/dist-packages (from ipython->keras_tuner) (5.1.1)\n",
            "Requirement already satisfied: prompt-toolkit<2.0.0,>=1.0.4 in /usr/local/lib/python3.7/dist-packages (from ipython->keras_tuner) (1.0.18)\n",
            "Requirement already satisfied: pexpect in /usr/local/lib/python3.7/dist-packages (from ipython->keras_tuner) (4.8.0)\n",
            "Requirement already satisfied: decorator in /usr/local/lib/python3.7/dist-packages (from ipython->keras_tuner) (4.4.2)\n",
            "Requirement already satisfied: pickleshare in /usr/local/lib/python3.7/dist-packages (from ipython->keras_tuner) (0.7.5)\n",
            "Requirement already satisfied: six>=1.9.0 in /usr/local/lib/python3.7/dist-packages (from prompt-toolkit<2.0.0,>=1.0.4->ipython->keras_tuner) (1.15.0)\n",
            "Requirement already satisfied: wcwidth in /usr/local/lib/python3.7/dist-packages (from prompt-toolkit<2.0.0,>=1.0.4->ipython->keras_tuner) (0.2.5)\n",
            "Requirement already satisfied: pyparsing!=3.0.5,>=2.0.2 in /usr/local/lib/python3.7/dist-packages (from packaging->keras_tuner) (3.0.9)\n",
            "Requirement already satisfied: ptyprocess>=0.5 in /usr/local/lib/python3.7/dist-packages (from pexpect->ipython->keras_tuner) (0.7.0)\n",
            "Requirement already satisfied: idna<3,>=2.5 in /usr/local/lib/python3.7/dist-packages (from requests->keras_tuner) (2.10)\n",
            "Requirement already satisfied: urllib3!=1.25.0,!=1.25.1,<1.26,>=1.21.1 in /usr/local/lib/python3.7/dist-packages (from requests->keras_tuner) (1.24.3)\n",
            "Requirement already satisfied: chardet<4,>=3.0.2 in /usr/local/lib/python3.7/dist-packages (from requests->keras_tuner) (3.0.4)\n",
            "Requirement already satisfied: certifi>=2017.4.17 in /usr/local/lib/python3.7/dist-packages (from requests->keras_tuner) (2022.6.15)\n",
            "Requirement already satisfied: werkzeug>=0.11.15 in /usr/local/lib/python3.7/dist-packages (from tensorboard->keras_tuner) (1.0.1)\n",
            "Requirement already satisfied: google-auth<3,>=1.6.3 in /usr/local/lib/python3.7/dist-packages (from tensorboard->keras_tuner) (1.35.0)\n",
            "Requirement already satisfied: protobuf>=3.6.0 in /usr/local/lib/python3.7/dist-packages (from tensorboard->keras_tuner) (3.17.3)\n",
            "Requirement already satisfied: grpcio>=1.24.3 in /usr/local/lib/python3.7/dist-packages (from tensorboard->keras_tuner) (1.46.3)\n",
            "Requirement already satisfied: wheel>=0.26 in /usr/local/lib/python3.7/dist-packages (from tensorboard->keras_tuner) (0.37.1)\n",
            "Requirement already satisfied: google-auth-oauthlib<0.5,>=0.4.1 in /usr/local/lib/python3.7/dist-packages (from tensorboard->keras_tuner) (0.4.6)\n",
            "Requirement already satisfied: markdown>=2.6.8 in /usr/local/lib/python3.7/dist-packages (from tensorboard->keras_tuner) (3.3.7)\n",
            "Requirement already satisfied: tensorboard-data-server<0.7.0,>=0.6.0 in /usr/local/lib/python3.7/dist-packages (from tensorboard->keras_tuner) (0.6.1)\n",
            "Requirement already satisfied: absl-py>=0.4 in /usr/local/lib/python3.7/dist-packages (from tensorboard->keras_tuner) (1.1.0)\n",
            "Requirement already satisfied: tensorboard-plugin-wit>=1.6.0 in /usr/local/lib/python3.7/dist-packages (from tensorboard->keras_tuner) (1.8.1)\n",
            "Requirement already satisfied: rsa<5,>=3.1.4 in /usr/local/lib/python3.7/dist-packages (from google-auth<3,>=1.6.3->tensorboard->keras_tuner) (4.8)\n",
            "Requirement already satisfied: cachetools<5.0,>=2.0.0 in /usr/local/lib/python3.7/dist-packages (from google-auth<3,>=1.6.3->tensorboard->keras_tuner) (4.2.4)\n",
            "Requirement already satisfied: pyasn1-modules>=0.2.1 in /usr/local/lib/python3.7/dist-packages (from google-auth<3,>=1.6.3->tensorboard->keras_tuner) (0.2.8)\n",
            "Requirement already satisfied: requests-oauthlib>=0.7.0 in /usr/local/lib/python3.7/dist-packages (from google-auth-oauthlib<0.5,>=0.4.1->tensorboard->keras_tuner) (1.3.1)\n",
            "Requirement already satisfied: importlib-metadata>=4.4 in /usr/local/lib/python3.7/dist-packages (from markdown>=2.6.8->tensorboard->keras_tuner) (4.11.4)\n",
            "Requirement already satisfied: zipp>=0.5 in /usr/local/lib/python3.7/dist-packages (from importlib-metadata>=4.4->markdown>=2.6.8->tensorboard->keras_tuner) (3.8.0)\n",
            "Requirement already satisfied: typing-extensions>=3.6.4 in /usr/local/lib/python3.7/dist-packages (from importlib-metadata>=4.4->markdown>=2.6.8->tensorboard->keras_tuner) (4.1.1)\n",
            "Requirement already satisfied: pyasn1<0.5.0,>=0.4.6 in /usr/local/lib/python3.7/dist-packages (from pyasn1-modules>=0.2.1->google-auth<3,>=1.6.3->tensorboard->keras_tuner) (0.4.8)\n",
            "Requirement already satisfied: oauthlib>=3.0.0 in /usr/local/lib/python3.7/dist-packages (from requests-oauthlib>=0.7.0->google-auth-oauthlib<0.5,>=0.4.1->tensorboard->keras_tuner) (3.2.0)\n",
            "Installing collected packages: kt-legacy, keras-tuner\n",
            "Successfully installed keras-tuner-1.1.2 kt-legacy-1.0.4\n"
          ]
        }
      ],
      "source": [
        "pip install keras_tuner"
      ],
      "id": "LshOA6OMaXN6"
    },
    {
      "cell_type": "code",
      "execution_count": 4,
      "metadata": {
        "colab": {
          "base_uri": "https://localhost:8080/"
        },
        "id": "8OfYO15SaZPk",
        "outputId": "70abddbb-3326-4d10-b920-3a9cb76653e3"
      },
      "outputs": [
        {
          "output_type": "stream",
          "name": "stdout",
          "text": [
            "Looking in indexes: https://pypi.org/simple, https://us-python.pkg.dev/colab-wheels/public/simple/\n",
            "Requirement already satisfied: graphviz in /usr/local/lib/python3.7/dist-packages (0.10.1)\n"
          ]
        }
      ],
      "source": [
        "pip install graphviz"
      ],
      "id": "8OfYO15SaZPk"
    },
    {
      "cell_type": "code",
      "execution_count": 5,
      "metadata": {
        "colab": {
          "base_uri": "https://localhost:8080/"
        },
        "id": "8sPr_79RabFH",
        "outputId": "e7c4b424-2efd-404c-fd36-b0a663ede3ee"
      },
      "outputs": [
        {
          "output_type": "stream",
          "name": "stdout",
          "text": [
            "Looking in indexes: https://pypi.org/simple, https://us-python.pkg.dev/colab-wheels/public/simple/\n",
            "Requirement already satisfied: pydot in /usr/local/lib/python3.7/dist-packages (1.3.0)\n",
            "Requirement already satisfied: pyparsing>=2.1.4 in /usr/local/lib/python3.7/dist-packages (from pydot) (3.0.9)\n"
          ]
        }
      ],
      "source": [
        "pip install pydot"
      ],
      "id": "8sPr_79RabFH"
    },
    {
      "cell_type": "markdown",
      "metadata": {
        "id": "ba915f3f"
      },
      "source": [
        "# Importing Libraries"
      ],
      "id": "ba915f3f"
    },
    {
      "cell_type": "code",
      "execution_count": 6,
      "metadata": {
        "colab": {
          "base_uri": "https://localhost:8080/"
        },
        "id": "e5f1a18b",
        "outputId": "4c048520-75f3-451b-fc7b-6aabad607e47"
      },
      "outputs": [
        {
          "output_type": "stream",
          "name": "stdout",
          "text": [
            "Libraries imported successfully\n"
          ]
        }
      ],
      "source": [
        "import numpy as np\n",
        "\n",
        "import cv2\n",
        "\n",
        "from keras.models import Sequential\n",
        "from tensorflow import keras\n",
        "from tensorflow.keras.utils import to_categorical\n",
        "from keras.layers import BatchNormalization\n",
        "from keras.layers import Dense, Dropout, Flatten, Conv2D, MaxPooling2D\n",
        "from tensorflow.keras import optimizers\n",
        "from keras_tuner import HyperParameters, BayesianOptimization\n",
        "\n",
        "from tensorflow.keras.preprocessing.image import ImageDataGenerator\n",
        "\n",
        "from sklearn.model_selection import train_test_split\n",
        "\n",
        "import matplotlib.pyplot as plt\n",
        "from plot_keras_history import show_history, plot_history\n",
        "\n",
        "print('Libraries imported successfully')"
      ],
      "id": "e5f1a18b"
    },
    {
      "cell_type": "markdown",
      "metadata": {
        "id": "0e03e4c4"
      },
      "source": [
        "# Loading dataset"
      ],
      "id": "0e03e4c4"
    },
    {
      "cell_type": "code",
      "execution_count": 7,
      "metadata": {
        "colab": {
          "base_uri": "https://localhost:8080/"
        },
        "id": "5050c75f",
        "outputId": "83f3f3a1-0e5a-4b1a-b300-7d2ea907a797"
      },
      "outputs": [
        {
          "output_type": "stream",
          "name": "stdout",
          "text": [
            "Mounted at /content/drive\n"
          ]
        }
      ],
      "source": [
        "from google.colab import drive\n",
        "drive.mount('/content/drive')\n",
        "\n",
        "data = np.load('/content/drive/MyDrive/Colab Notebooks/mnist_2digits_10K.npy') \n",
        "\n",
        "labels = np.load('/content/drive/MyDrive/Colab Notebooks/mnist_2digits_10K_labels.npy')"
      ],
      "id": "5050c75f"
    },
    {
      "cell_type": "markdown",
      "metadata": {
        "id": "545125fe"
      },
      "source": [
        "# Cheking the dataset shape, dtype"
      ],
      "id": "545125fe"
    },
    {
      "cell_type": "code",
      "execution_count": 8,
      "metadata": {
        "colab": {
          "base_uri": "https://localhost:8080/"
        },
        "id": "659ee737",
        "outputId": "69493cd9-1489-4280-acb9-ee2b375a403a"
      },
      "outputs": [
        {
          "output_type": "execute_result",
          "data": {
            "text/plain": [
              "(10000, 32, 32)"
            ]
          },
          "metadata": {},
          "execution_count": 8
        }
      ],
      "source": [
        "data.shape"
      ],
      "id": "659ee737"
    },
    {
      "cell_type": "code",
      "execution_count": 9,
      "metadata": {
        "colab": {
          "base_uri": "https://localhost:8080/"
        },
        "id": "fa6c78ca",
        "outputId": "04fd9007-9b03-40a4-8b32-cb08a6ef030b"
      },
      "outputs": [
        {
          "output_type": "execute_result",
          "data": {
            "text/plain": [
              "dtype('float32')"
            ]
          },
          "metadata": {},
          "execution_count": 9
        }
      ],
      "source": [
        "data.dtype"
      ],
      "id": "fa6c78ca"
    },
    {
      "cell_type": "code",
      "execution_count": 10,
      "metadata": {
        "colab": {
          "base_uri": "https://localhost:8080/"
        },
        "id": "04deeec9",
        "outputId": "af7b975d-6240-4c70-ba33-0a16bff0875a"
      },
      "outputs": [
        {
          "output_type": "execute_result",
          "data": {
            "text/plain": [
              "(1.0, 0.0)"
            ]
          },
          "metadata": {},
          "execution_count": 10
        }
      ],
      "source": [
        "np.max(data), np.min(data)"
      ],
      "id": "04deeec9"
    },
    {
      "cell_type": "markdown",
      "source": [
        "# Checking digits distributions"
      ],
      "metadata": {
        "id": "JROmfaQ66gzd"
      },
      "id": "JROmfaQ66gzd"
    },
    {
      "cell_type": "code",
      "source": [
        "histogram = {}\n",
        "\n",
        "def get_frequencies_of(data, number):\n",
        "    '''Nothing'''\n",
        "    \n",
        "    selected = []\n",
        "    \n",
        "    for v in data:\n",
        "    \n",
        "        if v[0] == number or v[1] == number:\n",
        "        \n",
        "            selected.append(True)\n",
        "        \n",
        "        else:\n",
        "        \n",
        "            selected.append(False)\n",
        "        \n",
        "###\n",
        "\n",
        "    return len(data[selected]), selected\n",
        "\n",
        "\n",
        "for i in range(10):\n",
        "    \n",
        "    histogram[i] = get_frequencies_of(labels, i)[0]\n",
        "    "
      ],
      "metadata": {
        "id": "LTZviBEE6nnf"
      },
      "id": "LTZviBEE6nnf",
      "execution_count": 11,
      "outputs": []
    },
    {
      "cell_type": "code",
      "source": [
        "\n",
        "plt.bar(histogram.keys(), histogram.values(), color = 'cyan')   \n",
        "\n",
        "plt.xlabel('Single Digits')\n",
        "plt.ylabel('Frequencies')\n",
        "\n",
        "plt.title('Digits frequencies in the dataset')\n",
        "\n",
        "plt.show()"
      ],
      "metadata": {
        "colab": {
          "base_uri": "https://localhost:8080/",
          "height": 0
        },
        "id": "cVn_Vhjj6ryT",
        "outputId": "a5578980-b5e1-4ef6-bfe8-5e37957df4b6"
      },
      "id": "cVn_Vhjj6ryT",
      "execution_count": 12,
      "outputs": [
        {
          "output_type": "display_data",
          "data": {
            "text/plain": [
              "<Figure size 432x288 with 1 Axes>"
            ],
            "image/png": "[encoded data removed]"
          },
          "metadata": {
            "needs_background": "light"
          }
        }
      ]
    },
    {
      "cell_type": "code",
      "source": [
        "for i in range(10):\n",
        "    \n",
        "    histogram[i] = get_frequencies_of(labels[-1000: , :], i)[0]\n",
        "    \n",
        "plt.bar(histogram.keys(), histogram.values())   \n",
        "\n",
        "plt.xlabel('Single Digits')\n",
        "plt.ylabel('Frequencies')\n",
        "\n",
        "plt.title('Digits frequencies in the test set')\n",
        "\n",
        "plt.show()"
      ],
      "metadata": {
        "colab": {
          "base_uri": "https://localhost:8080/",
          "height": 0
        },
        "id": "KuzbxWGf6uNL",
        "outputId": "dda059d5-6d6f-4090-97d6-7a024c975ac0"
      },
      "id": "KuzbxWGf6uNL",
      "execution_count": 13,
      "outputs": [
        {
          "output_type": "display_data",
          "data": {
            "text/plain": [
              "<Figure size 432x288 with 1 Axes>"
            ],
            "image/png": "[encoded data removed]"
          },
          "metadata": {
            "needs_background": "light"
          }
        }
      ]
    },
    {
      "cell_type": "markdown",
      "source": [
        "# Preprocessing"
      ],
      "metadata": {
        "id": "R3D8Sn_263wi"
      },
      "id": "R3D8Sn_263wi"
    },
    {
      "cell_type": "code",
      "source": [
        "new_size = data[0].shape[0] * 3\n",
        "\n",
        "resized_images = np.zeros((len(data), new_size, new_size))\n",
        "\n",
        "for i, v in enumerate(data):\n",
        "\n",
        "    v = cv2.resize(v, dsize = (new_size, new_size))\n",
        "    \n",
        "    resized_images[i] = np.array(cv2.equalizeHist(np.uint8(np.multiply(v, 255))) / 255) #cv2.Canny(np.uint8(np.multiply(v, 255)), 127, 255)"
      ],
      "metadata": {
        "id": "gCGJxb7s67ws"
      },
      "id": "gCGJxb7s67ws",
      "execution_count": 14,
      "outputs": []
    },
    {
      "cell_type": "markdown",
      "metadata": {
        "id": "3c0d717c"
      },
      "source": [
        "# Concatening labels(two columns) into one target column"
      ],
      "id": "3c0d717c"
    },
    {
      "cell_type": "code",
      "execution_count": 15,
      "metadata": {
        "id": "ead774d7",
        "scrolled": false
      },
      "outputs": [],
      "source": [
        "target_map = dict()\n",
        "\n",
        "decoding_map = dict()\n",
        "\n",
        "combined_labels = [sorted([l[0] ,l[1]]) for l in labels]\n",
        "\n",
        "combined_labels = [str(l[0]) + str(l[1]) for l in combined_labels]\n",
        "\n",
        "target_label = np.unique(combined_labels)\n",
        "\n",
        "for index, value in enumerate(target_label):\n",
        "    \n",
        "    target_map[value] = index\n",
        "    \n",
        "##\n",
        "for i, v in target_map.items():\n",
        "\n",
        "  decoding_map[v] = i\n",
        "\n",
        "##\n",
        "combined_labels = [target_map[value] for value in combined_labels]\n",
        "\n",
        "target = list(target_map)"
      ],
      "id": "ead774d7"
    },
    {
      "cell_type": "markdown",
      "metadata": {
        "id": "773f271f"
      },
      "source": [
        "# Splitting dataset into test & train with its labels"
      ],
      "id": "773f271f"
    },
    {
      "cell_type": "code",
      "execution_count": 16,
      "metadata": {
        "colab": {
          "base_uri": "https://localhost:8080/"
        },
        "id": "9bb6a0d8",
        "outputId": "89f357b7-9001-40cb-f451-411bd005558f"
      },
      "outputs": [
        {
          "output_type": "stream",
          "name": "stdout",
          "text": [
            "Train:  (9000, 96, 96), labels: (9000, 45)\n",
            "Test:   (1000, 96, 96), labels: (1000, 45)\n"
          ]
        }
      ],
      "source": [
        "test_percent = 0.1\n",
        "\n",
        "number_of_classes = len(target)\n",
        "\n",
        "data_length = len(resized_images)\n",
        "\n",
        "x_train = resized_images[: -int(data_length * test_percent)]\n",
        "\n",
        "y_train = combined_labels[: -int(data_length * test_percent) :]\n",
        "\n",
        "x_test = resized_images[-int(data_length * test_percent) :]\n",
        "\n",
        "y_test = combined_labels[-int(data_length * test_percent) :]\n",
        "\n",
        "y_train = to_categorical(y_train, num_classes= number_of_classes, dtype='float32')\n",
        "\n",
        "y_test = to_categorical(y_test, num_classes= number_of_classes, dtype='float32')\n",
        "\n",
        "print('Train: ', x_train.shape, end= ', labels: ')\n",
        "print(y_train.shape)\n",
        "print('Test:  ', x_test.shape, end= ', labels: ')\n",
        "print(y_test.shape)"
      ],
      "id": "9bb6a0d8"
    },
    {
      "cell_type": "markdown",
      "metadata": {
        "id": "c89318ad"
      },
      "source": [
        "# Building CNN Model with keras tuner options"
      ],
      "id": "c89318ad"
    },
    {
      "cell_type": "code",
      "execution_count": 35,
      "metadata": {
        "id": "a8232a91"
      },
      "outputs": [],
      "source": [
        "def build_model(hp):\n",
        "    \n",
        "    number_of_classes = len(target)\n",
        "    \n",
        "    model = Sequential()\n",
        "    \n",
        "    model.add(\n",
        "        Conv2D( \n",
        "               hp.Int(\"filters0\", min_value= 64, max_value= 128, step= 8),\n",
        "               (3, 3),\n",
        "               input_shape= (new_size, new_size, 1),\n",
        "               activation= 'relu', \n",
        "               padding= hp.Choice('Padding0', ['same', 'valid'])\n",
        "              )\n",
        "    )\n",
        "    \n",
        "    model.add(MaxPooling2D(pool_size= (2, 2)))\n",
        "          \n",
        "    for i in range(1, hp.Int(\"cnn_layers\", min_value= 1, max_value= 4) + 1):\n",
        "                   \n",
        "        model.add(\n",
        "            Conv2D(\n",
        "                    hp.Int(f\"filters{i}\", min_value= 32, max_value= 128, step= 8),\n",
        "                    (3, 3),\n",
        "                    activation= 'relu',\n",
        "                    padding= hp.Choice('Padding1', ['same', 'valid'])\n",
        "                 )\n",
        "        )\n",
        "        \n",
        "        model.add(MaxPooling2D(pool_size= (2, 2)))\n",
        "        \n",
        "                \n",
        "    model.add(BatchNormalization())\n",
        "        \n",
        "        ###\n",
        "    model.add(Flatten())\n",
        "\n",
        "    drop_rate0 = hp.Float(f'dropout_value0', min_value = 0.2, max_value= 0.5, sampling= \"log\")\n",
        "\n",
        "    model.add(Dropout(rate= drop_rate0))\n",
        "    \n",
        "    num_of_layers = hp.Int('num_layers', min_value= 1, max_value= 4)\n",
        "    \n",
        "    for i in range(1, num_of_layers + 1):\n",
        "        \n",
        "        model.add(\n",
        "            \n",
        "            Dense(\n",
        "                \n",
        "                units= hp.Int(f\"units{i}\", min_value= 1024, max_value= 2048, step= 256),\n",
        "                \n",
        "                activation= hp.Choice(f'activation{i}', ['relu', 'tanh', 'sigmoid']),\n",
        "            )\n",
        "        )\n",
        "    \n",
        "        drop_rate1 = hp.Float(f'dropout_value{i}', min_value = 0.2, max_value= 0.5, sampling= \"log\")\n",
        "\n",
        "        model.add(Dropout(rate= drop_rate1))\n",
        "                   \n",
        "    model.add(Dense(number_of_classes, activation= \"softmax\"))\n",
        "                   \n",
        "    learning_rate = hp.Float(\"learnin_rate\", min_value=1e-4, max_value=1e-3, sampling= \"log\")\n",
        "    \n",
        "    momentum = hp.Float(\"momentum\", min_value= 0.1, max_value= 0.9, sampling= \"log\")\n",
        "                   \n",
        "    nesterov = hp.Boolean(\"nesterov\")\n",
        "    \n",
        "    opt_selection = hp.Int('Optimizer', min_value= 1, max_value= 4)\n",
        "\n",
        "    if opt_selection == 1:\n",
        "\n",
        "      opt = optimizers.SGD(learning_rate= learning_rate, momentum= momentum, nesterov= nesterov)\n",
        "\n",
        "    elif opt_selection == 2:\n",
        "\n",
        "      opt = optimizers.RMSprop(learning_rate= learning_rate)\n",
        "\n",
        "    elif opt_selection == 3:\n",
        "\n",
        "      opt = optimizers.Adam(learning_rate= learning_rate)\n",
        "\n",
        "    elif opt_selection == 4:\n",
        "\n",
        "      opt = optimizers.Nadam(learning_rate= learning_rate)\n",
        "\n",
        "    model.compile(\n",
        "        \n",
        "        optimizer=  opt,\n",
        "        \n",
        "        loss= \"categorical_crossentropy\",\n",
        "        \n",
        "        metrics= [\"accuracy\"],\n",
        "    )\n",
        "    \n",
        "    #print('# paramters: ', model.count_params())\n",
        "    \n",
        "    return model"
      ],
      "id": "a8232a91"
    },
    {
      "cell_type": "markdown",
      "metadata": {
        "id": "61f8c4e1"
      },
      "source": [
        "# Tuning model"
      ],
      "id": "61f8c4e1"
    },
    {
      "cell_type": "code",
      "execution_count": null,
      "metadata": {
        "colab": {
          "base_uri": "https://localhost:8080/"
        },
        "id": "6a7c5775",
        "scrolled": false,
        "outputId": "93bcab58-79f0-4100-fb8b-33abecc3b905"
      },
      "outputs": [
        {
          "output_type": "stream",
          "name": "stdout",
          "text": [
            "Trial 8 Complete [00h 07m 47s]\n",
            "val_accuracy: 0.7179999947547913\n",
            "\n",
            "Best val_accuracy So Far: 0.718999981880188\n",
            "Total elapsed time: 01h 06m 48s\n",
            "\n",
            "Search: Running Trial #9\n",
            "\n",
            "Value             |Best Value So Far |Hyperparameter\n",
            "128               |128               |filters0\n",
            "same              |same              |Padding0\n",
            "4                 |4                 |cnn_layers\n",
            "32                |32                |filters1\n",
            "valid             |valid             |Padding1\n",
            "0.2               |0.2               |dropout_value0\n",
            "4                 |1                 |num_layers\n",
            "1024              |1024              |units1\n",
            "sigmoid           |sigmoid           |activation1\n",
            "0.2               |0.2               |dropout_value1\n",
            "0.001             |0.001             |learnin_rate\n",
            "0.1               |0.1               |momentum\n",
            "False             |False             |nesterov\n",
            "4                 |4                 |Optimizer\n",
            "2048              |2048              |units2\n",
            "sigmoid           |sigmoid           |activation2\n",
            "0.5               |0.5               |dropout_value2\n",
            "2048              |2048              |units3\n",
            "sigmoid           |sigmoid           |activation3\n",
            "0.5               |0.5               |dropout_value3\n",
            "128               |128               |filters2\n",
            "128               |88                |filters3\n",
            "80                |128               |filters4\n",
            "\n",
            "Epoch 1/50\n",
            "18/18 - 12s - loss: 4.0484 - accuracy: 0.0267 - val_loss: 3.8123 - val_accuracy: 0.0200 - 12s/epoch - 654ms/step\n",
            "Epoch 2/50\n",
            "18/18 - 10s - loss: 3.8130 - accuracy: 0.0268 - val_loss: 3.8070 - val_accuracy: 0.0240 - 10s/epoch - 537ms/step\n",
            "Epoch 3/50\n",
            "18/18 - 9s - loss: 3.8066 - accuracy: 0.0249 - val_loss: 3.7995 - val_accuracy: 0.0200 - 9s/epoch - 522ms/step\n",
            "Epoch 4/50\n",
            "18/18 - 10s - loss: 3.7929 - accuracy: 0.0296 - val_loss: 3.8092 - val_accuracy: 0.0250 - 10s/epoch - 533ms/step\n",
            "Epoch 5/50\n",
            "18/18 - 10s - loss: 3.7028 - accuracy: 0.0493 - val_loss: 3.8089 - val_accuracy: 0.0340 - 10s/epoch - 533ms/step\n",
            "Epoch 6/50\n",
            "18/18 - 10s - loss: 3.6179 - accuracy: 0.0496 - val_loss: 3.5859 - val_accuracy: 0.0560 - 10s/epoch - 530ms/step\n",
            "Epoch 7/50\n",
            "18/18 - 9s - loss: 3.5718 - accuracy: 0.0542 - val_loss: 3.5218 - val_accuracy: 0.0540 - 9s/epoch - 506ms/step\n",
            "Epoch 8/50\n",
            "18/18 - 9s - loss: 3.5168 - accuracy: 0.0631 - val_loss: 3.4981 - val_accuracy: 0.0610 - 9s/epoch - 527ms/step\n",
            "Epoch 9/50\n",
            "18/18 - 11s - loss: 3.4825 - accuracy: 0.0642 - val_loss: 3.4370 - val_accuracy: 0.0730 - 11s/epoch - 603ms/step\n",
            "Epoch 10/50\n",
            "18/18 - 9s - loss: 3.4342 - accuracy: 0.0647 - val_loss: 3.4794 - val_accuracy: 0.0660 - 9s/epoch - 511ms/step\n",
            "Epoch 11/50\n",
            "18/18 - 9s - loss: 3.4045 - accuracy: 0.0689 - val_loss: 3.9069 - val_accuracy: 0.0230 - 9s/epoch - 506ms/step\n",
            "Epoch 12/50\n",
            "18/18 - 9s - loss: 3.3853 - accuracy: 0.0712 - val_loss: 3.9971 - val_accuracy: 0.0320 - 9s/epoch - 509ms/step\n",
            "Epoch 13/50\n",
            "18/18 - 9s - loss: 3.3640 - accuracy: 0.0699 - val_loss: 3.5011 - val_accuracy: 0.0540 - 9s/epoch - 511ms/step\n",
            "Epoch 14/50\n",
            "18/18 - 9s - loss: 3.3579 - accuracy: 0.0698 - val_loss: 3.3756 - val_accuracy: 0.0640 - 9s/epoch - 507ms/step\n",
            "Epoch 15/50\n",
            "18/18 - 10s - loss: 3.3403 - accuracy: 0.0830 - val_loss: 3.4766 - val_accuracy: 0.0740 - 10s/epoch - 530ms/step\n",
            "Epoch 16/50\n",
            "18/18 - 9s - loss: 3.3282 - accuracy: 0.0780 - val_loss: 3.4527 - val_accuracy: 0.0730 - 9s/epoch - 506ms/step\n",
            "Epoch 17/50\n",
            "18/18 - 9s - loss: 3.3097 - accuracy: 0.0811 - val_loss: 3.5161 - val_accuracy: 0.0480 - 9s/epoch - 514ms/step\n",
            "Epoch 18/50\n",
            "18/18 - 9s - loss: 3.2927 - accuracy: 0.0788 - val_loss: 3.2470 - val_accuracy: 0.0970 - 9s/epoch - 525ms/step\n",
            "Epoch 19/50\n",
            "18/18 - 9s - loss: 3.2976 - accuracy: 0.0767 - val_loss: 3.6617 - val_accuracy: 0.0560 - 9s/epoch - 521ms/step\n",
            "Epoch 20/50\n",
            "18/18 - 9s - loss: 3.2757 - accuracy: 0.0824 - val_loss: 3.8992 - val_accuracy: 0.0260 - 9s/epoch - 519ms/step\n",
            "Epoch 21/50\n",
            "18/18 - 9s - loss: 3.2603 - accuracy: 0.0853 - val_loss: 3.3605 - val_accuracy: 0.0750 - 9s/epoch - 514ms/step\n",
            "Epoch 22/50\n",
            "18/18 - 9s - loss: 3.2573 - accuracy: 0.0911 - val_loss: 3.8858 - val_accuracy: 0.0370 - 9s/epoch - 513ms/step\n",
            "Epoch 23/50\n"
          ]
        }
      ],
      "source": [
        "tuner = BayesianOptimization(\n",
        "                            build_model,\n",
        "                            'val_accuracy',\n",
        "                            20,\n",
        "                            num_initial_points= 2,\n",
        "                            alpha= 0.0001,\n",
        "                            beta= 2.6,\n",
        "                            seed= 47,\n",
        "                            hyperparameters= HyperParameters(),\n",
        "                            overwrite= True,\n",
        "                            directory=\"/Tunning\",\n",
        "                            project_name=\"InaitTask\",\n",
        "                            )\n",
        "###\n",
        "train_datagen = ImageDataGenerator( \n",
        "                                    rotation_range= 20, \n",
        "                                    width_shift_range= 0.2, \n",
        "                                    height_shift_range= 0.2, \n",
        "                                    zoom_range= 0.2, \n",
        "                                    horizontal_flip= True,\n",
        "                                    fill_mode=\"nearest\" \n",
        "                                  ) \n",
        "\n",
        "tuner.search(\n",
        "              train_datagen.flow(\n",
        "                                x_train.reshape(x_train.shape[0], new_size, new_size, 1),\n",
        "                                y_train,\n",
        "                                batch_size= 512, \n",
        "                                seed= 27,\n",
        "                                shuffle= False\n",
        "                                ),\n",
        "             epochs= 50, \n",
        "             validation_data= (x_test, y_test),\n",
        "             verbose= 2\n",
        "             )\n",
        "\n",
        "###\n",
        "tuner.results_summary()"
      ],
      "id": "6a7c5775"
    },
    {
      "cell_type": "markdown",
      "metadata": {
        "id": "8450a43f"
      },
      "source": [
        "# Choose best model"
      ],
      "id": "8450a43f"
    },
    {
      "cell_type": "code",
      "execution_count": null,
      "metadata": {
        "id": "6f92deac"
      },
      "outputs": [],
      "source": [
        "best_model = tuner.get_best_models()[0]\n",
        "\n",
        "best_model.build(input_shape= (32, 32, 1))\n",
        "\n",
        "best_model.summary()"
      ],
      "id": "6f92deac"
    },
    {
      "cell_type": "markdown",
      "metadata": {
        "id": "76dd2d5b"
      },
      "source": [
        "# Visualize best model architecture"
      ],
      "id": "76dd2d5b"
    },
    {
      "cell_type": "code",
      "execution_count": null,
      "metadata": {
        "id": "80a35c26"
      },
      "outputs": [],
      "source": [
        "keras.utils.plot_model(best_model, to_file=\"best_model1.png\", show_shapes= True) "
      ],
      "id": "80a35c26"
    },
    {
      "cell_type": "markdown",
      "metadata": {
        "id": "9f643ec1"
      },
      "source": [
        "# Retraining models + plotting performances"
      ],
      "id": "9f643ec1"
    },
    {
      "cell_type": "code",
      "execution_count": null,
      "metadata": {
        "id": "36ba739b"
      },
      "outputs": [],
      "source": [
        "import datetime\n",
        "\n",
        "history = best_model.fit(x_train, y_train, validation_data= (x_test, y_test), epochs= 250, batch_size= 512, verbose= 0)\n",
        "\n",
        "loss, accuracy = best_model.evaluate(x_test, y_test, verbose= 0)\n",
        "\n",
        "print(f'Test dataset --> Model loss: {np.round(loss, 2)} - model accuracy: {np.round(accuracy * 100, 1)}%')\n",
        "\n",
        "ct = datetime.datetime.now()\n",
        "\n",
        "show_history(history)\n",
        "\n",
        "plot_history(history, path= f'{int(ct.timestamp())}.png')\n",
        "\n",
        "plt.close()"
      ],
      "id": "36ba739b"
    },
    {
      "cell_type": "markdown",
      "source": [
        "# Reverse mapping"
      ],
      "metadata": {
        "id": "qJOMxl1P6-Q7"
      },
      "id": "qJOMxl1P6-Q7"
    },
    {
      "cell_type": "code",
      "source": [
        "sample = 1\n",
        "\n",
        "gt = best_model.predict(x_test)\n",
        "\n",
        "digits = decoding_map[np.where(gt[sample] == max(gt[sample]))[0][0]]\n",
        "\n",
        "list(digits)"
      ],
      "metadata": {
        "id": "8hK2tD7N0nAg"
      },
      "id": "8hK2tD7N0nAg",
      "execution_count": null,
      "outputs": []
    },
    {
      "cell_type": "code",
      "source": [
        "target_map"
      ],
      "metadata": {
        "id": "SxLwk9yO1Jj7"
      },
      "id": "SxLwk9yO1Jj7",
      "execution_count": null,
      "outputs": []
    }
  ],
  "metadata": {
    "accelerator": "GPU",
    "colab": {
      "collapsed_sections": [
        "8520ce76",
        "ba915f3f",
        "0e03e4c4",
        "545125fe",
        "JROmfaQ66gzd",
        "3c0d717c",
        "76dd2d5b",
        "9f643ec1",
        "qJOMxl1P6-Q7"
      ],
      "name": "My_Task4.ipynb",
      "provenance": [],
      "include_colab_link": true
    },
    "kernelspec": {
      "display_name": "Python 3 (ipykernel)",
      "language": "python",
      "name": "python3"
    },
    "language_info": {
      "codemirror_mode": {
        "name": "ipython",
        "version": 3
      },
      "file_extension": ".py",
      "mimetype": "text/x-python",
      "name": "python",
      "nbconvert_exporter": "python",
      "pygments_lexer": "ipython3",
      "version": "3.7.13"
    },
    "toc": {
      "base_numbering": 1,
      "nav_menu": {},
      "number_sections": true,
      "sideBar": true,
      "skip_h1_title": false,
      "title_cell": "Table of Contents",
      "title_sidebar": "Contents",
      "toc_cell": false,
      "toc_position": {},
      "toc_section_display": true,
      "toc_window_display": false
    },
    "varInspector": {
      "cols": {
        "lenName": 16,
        "lenType": 16,
        "lenVar": 40
      },
      "kernels_config": {
        "python": {
          "delete_cmd_postfix": "",
          "delete_cmd_prefix": "del ",
          "library": "var_list.py",
          "varRefreshCmd": "print(var_dic_list())"
        },
        "r": {
          "delete_cmd_postfix": ") ",
          "delete_cmd_prefix": "rm(",
          "library": "var_list.r",
          "varRefreshCmd": "cat(var_dic_list()) "
        }
      },
      "types_to_exclude": [
        "module",
        "function",
        "builtin_function_or_method",
        "instance",
        "_Feature"
      ],
      "window_display": false
    }
  },
  "nbformat": 4,
  "nbformat_minor": 5
}