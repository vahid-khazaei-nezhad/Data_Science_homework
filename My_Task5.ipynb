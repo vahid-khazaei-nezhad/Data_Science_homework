{
  "cells": [
    {
      "cell_type": "markdown",
      "metadata": {
        "id": "view-in-github",
        "colab_type": "text"
      },
      "source": [
        "<a href=\"https://colab.research.google.com/github/vahid-khazaei-nezhad/Data_Science_homework/blob/main/My_Task5.ipynb\" target=\"_parent\"><img src=\"https://colab.research.google.com/assets/colab-badge.svg\" alt=\"Open In Colab\"/></a>"
      ]
    },
    {
      "cell_type": "markdown",
      "metadata": {
        "id": "8520ce76"
      },
      "source": [
        "# Installed libraires"
      ],
      "id": "8520ce76"
    },
    {
      "cell_type": "raw",
      "metadata": {
        "id": "244b1440"
      },
      "source": [
        "opencv-python, \n",
        "scipy, \n",
        "pandas, \n",
        "numpy, \n",
        "scilit-learn, \n",
        "tensorflow, \n",
        "keras, \n",
        "matplotlib, \n",
        "plot-keras-history, \n",
        "more-itertools installed."
      ],
      "id": "244b1440"
    },
    {
      "cell_type": "code",
      "execution_count": 3,
      "metadata": {
        "colab": {
          "base_uri": "https://localhost:8080/"
        },
        "id": "UdPNKWBWaOVc",
        "outputId": "ef120d5f-5512-442a-fe70-c653c28b55e2"
      },
      "outputs": [
        {
          "output_type": "stream",
          "name": "stdout",
          "text": [
            "Looking in indexes: https://pypi.org/simple, https://us-python.pkg.dev/colab-wheels/public/simple/\n",
            "Collecting plot_keras_history\n",
            "  Downloading plot_keras_history-1.1.36.tar.gz (9.1 kB)\n",
            "Requirement already satisfied: matplotlib in /usr/local/lib/python3.7/dist-packages (from plot_keras_history) (3.2.2)\n",
            "Requirement already satisfied: pandas in /usr/local/lib/python3.7/dist-packages (from plot_keras_history) (1.3.5)\n",
            "Requirement already satisfied: scipy in /usr/local/lib/python3.7/dist-packages (from plot_keras_history) (1.4.1)\n",
            "Collecting sanitize_ml_labels>=1.0.33\n",
            "  Downloading sanitize_ml_labels-1.0.42.tar.gz (323 kB)\n",
            "\u001b[K     |████████████████████████████████| 323 kB 7.8 MB/s \n",
            "\u001b[?25hCollecting compress_json\n",
            "  Downloading compress_json-1.0.7.tar.gz (5.4 kB)\n",
            "Requirement already satisfied: numpy>=1.11 in /usr/local/lib/python3.7/dist-packages (from matplotlib->plot_keras_history) (1.21.6)\n",
            "Requirement already satisfied: kiwisolver>=1.0.1 in /usr/local/lib/python3.7/dist-packages (from matplotlib->plot_keras_history) (1.4.2)\n",
            "Requirement already satisfied: pyparsing!=2.0.4,!=2.1.2,!=2.1.6,>=2.0.1 in /usr/local/lib/python3.7/dist-packages (from matplotlib->plot_keras_history) (3.0.9)\n",
            "Requirement already satisfied: cycler>=0.10 in /usr/local/lib/python3.7/dist-packages (from matplotlib->plot_keras_history) (0.11.0)\n",
            "Requirement already satisfied: python-dateutil>=2.1 in /usr/local/lib/python3.7/dist-packages (from matplotlib->plot_keras_history) (2.8.2)\n",
            "Requirement already satisfied: typing-extensions in /usr/local/lib/python3.7/dist-packages (from kiwisolver>=1.0.1->matplotlib->plot_keras_history) (4.2.0)\n",
            "Requirement already satisfied: six>=1.5 in /usr/local/lib/python3.7/dist-packages (from python-dateutil>=2.1->matplotlib->plot_keras_history) (1.15.0)\n",
            "Requirement already satisfied: pytz>=2017.3 in /usr/local/lib/python3.7/dist-packages (from pandas->plot_keras_history) (2022.1)\n",
            "Building wheels for collected packages: plot-keras-history, sanitize-ml-labels, compress-json\n",
            "  Building wheel for plot-keras-history (setup.py) ... \u001b[?25l\u001b[?25hdone\n",
            "  Created wheel for plot-keras-history: filename=plot_keras_history-1.1.36-py3-none-any.whl size=9236 sha256=025e64cf51afbe3593bf9013be9d164f0672f39e855cf9fc530fbf9409137838\n",
            "  Stored in directory: /root/.cache/pip/wheels/ca/73/ed/41022b42c1d9ce60a8a2ebb71f042c7f895673760404d39fd7\n",
            "  Building wheel for sanitize-ml-labels (setup.py) ... \u001b[?25l\u001b[?25hdone\n",
            "  Created wheel for sanitize-ml-labels: filename=sanitize_ml_labels-1.0.42-py3-none-any.whl size=322677 sha256=c402b01c52e0ea984c5cfd59eb411a5c9041af90cf168603bce2d39ea2aad817\n",
            "  Stored in directory: /root/.cache/pip/wheels/97/31/a0/5ddbb26189896b5d23d83b03bf9a74327a8091a610a6375785\n",
            "  Building wheel for compress-json (setup.py) ... \u001b[?25l\u001b[?25hdone\n",
            "  Created wheel for compress-json: filename=compress_json-1.0.7-py3-none-any.whl size=5233 sha256=41786a5706bc7151610d0ed8939740eba287d1f6db7edec1bd20aa78478cc817\n",
            "  Stored in directory: /root/.cache/pip/wheels/6d/7e/13/0e370d719528969d430498ca952417324595d116776840b279\n",
            "Successfully built plot-keras-history sanitize-ml-labels compress-json\n",
            "Installing collected packages: compress-json, sanitize-ml-labels, plot-keras-history\n",
            "Successfully installed compress-json-1.0.7 plot-keras-history-1.1.36 sanitize-ml-labels-1.0.42\n"
          ]
        }
      ],
      "source": [
        "pip install plot_keras_history"
      ],
      "id": "UdPNKWBWaOVc"
    },
    {
      "cell_type": "code",
      "execution_count": 4,
      "metadata": {
        "colab": {
          "base_uri": "https://localhost:8080/"
        },
        "id": "TUaleYSxaSST",
        "outputId": "dd44830b-9535-4e38-cbfa-fb9186930169"
      },
      "outputs": [
        {
          "output_type": "stream",
          "name": "stdout",
          "text": [
            "Looking in indexes: https://pypi.org/simple, https://us-python.pkg.dev/colab-wheels/public/simple/\n",
            "Collecting keras.utils\n",
            "  Downloading keras-utils-1.0.13.tar.gz (2.4 kB)\n",
            "Requirement already satisfied: Keras>=2.1.5 in /usr/local/lib/python3.7/dist-packages (from keras.utils) (2.8.0)\n",
            "Building wheels for collected packages: keras.utils\n",
            "  Building wheel for keras.utils (setup.py) ... \u001b[?25l\u001b[?25hdone\n",
            "  Created wheel for keras.utils: filename=keras_utils-1.0.13-py3-none-any.whl size=2656 sha256=80584a5b940ab72e032e6104c03785ce4b4c4cd9d90c78ea8a501f1c2e9ce972\n",
            "  Stored in directory: /root/.cache/pip/wheels/d0/dd/3b/493952a5240d486a83805d65360dedadbadeae71d25e2c877f\n",
            "Successfully built keras.utils\n",
            "Installing collected packages: keras.utils\n",
            "Successfully installed keras.utils-1.0.13\n"
          ]
        }
      ],
      "source": [
        "pip install keras.utils"
      ],
      "id": "TUaleYSxaSST"
    },
    {
      "cell_type": "code",
      "execution_count": 5,
      "metadata": {
        "colab": {
          "base_uri": "https://localhost:8080/"
        },
        "id": "LshOA6OMaXN6",
        "outputId": "70a7c1de-0bf7-4722-be27-24c49b122587"
      },
      "outputs": [
        {
          "output_type": "stream",
          "name": "stdout",
          "text": [
            "Looking in indexes: https://pypi.org/simple, https://us-python.pkg.dev/colab-wheels/public/simple/\n",
            "Collecting keras_tuner\n",
            "  Downloading keras_tuner-1.1.2-py3-none-any.whl (133 kB)\n",
            "\u001b[K     |████████████████████████████████| 133 kB 9.2 MB/s \n",
            "\u001b[?25hRequirement already satisfied: packaging in /usr/local/lib/python3.7/dist-packages (from keras_tuner) (21.3)\n",
            "Requirement already satisfied: ipython in /usr/local/lib/python3.7/dist-packages (from keras_tuner) (5.5.0)\n",
            "Requirement already satisfied: numpy in /usr/local/lib/python3.7/dist-packages (from keras_tuner) (1.21.6)\n",
            "Collecting kt-legacy\n",
            "  Downloading kt_legacy-1.0.4-py3-none-any.whl (9.6 kB)\n",
            "Requirement already satisfied: tensorboard in /usr/local/lib/python3.7/dist-packages (from keras_tuner) (2.8.0)\n",
            "Requirement already satisfied: requests in /usr/local/lib/python3.7/dist-packages (from keras_tuner) (2.23.0)\n",
            "Requirement already satisfied: traitlets>=4.2 in /usr/local/lib/python3.7/dist-packages (from ipython->keras_tuner) (5.1.1)\n",
            "Requirement already satisfied: simplegeneric>0.8 in /usr/local/lib/python3.7/dist-packages (from ipython->keras_tuner) (0.8.1)\n",
            "Requirement already satisfied: pexpect in /usr/local/lib/python3.7/dist-packages (from ipython->keras_tuner) (4.8.0)\n",
            "Requirement already satisfied: setuptools>=18.5 in /usr/local/lib/python3.7/dist-packages (from ipython->keras_tuner) (57.4.0)\n",
            "Requirement already satisfied: pygments in /usr/local/lib/python3.7/dist-packages (from ipython->keras_tuner) (2.6.1)\n",
            "Requirement already satisfied: pickleshare in /usr/local/lib/python3.7/dist-packages (from ipython->keras_tuner) (0.7.5)\n",
            "Requirement already satisfied: decorator in /usr/local/lib/python3.7/dist-packages (from ipython->keras_tuner) (4.4.2)\n",
            "Requirement already satisfied: prompt-toolkit<2.0.0,>=1.0.4 in /usr/local/lib/python3.7/dist-packages (from ipython->keras_tuner) (1.0.18)\n",
            "Requirement already satisfied: wcwidth in /usr/local/lib/python3.7/dist-packages (from prompt-toolkit<2.0.0,>=1.0.4->ipython->keras_tuner) (0.2.5)\n",
            "Requirement already satisfied: six>=1.9.0 in /usr/local/lib/python3.7/dist-packages (from prompt-toolkit<2.0.0,>=1.0.4->ipython->keras_tuner) (1.15.0)\n",
            "Requirement already satisfied: pyparsing!=3.0.5,>=2.0.2 in /usr/local/lib/python3.7/dist-packages (from packaging->keras_tuner) (3.0.9)\n",
            "Requirement already satisfied: ptyprocess>=0.5 in /usr/local/lib/python3.7/dist-packages (from pexpect->ipython->keras_tuner) (0.7.0)\n",
            "Requirement already satisfied: urllib3!=1.25.0,!=1.25.1,<1.26,>=1.21.1 in /usr/local/lib/python3.7/dist-packages (from requests->keras_tuner) (1.24.3)\n",
            "Requirement already satisfied: idna<3,>=2.5 in /usr/local/lib/python3.7/dist-packages (from requests->keras_tuner) (2.10)\n",
            "Requirement already satisfied: certifi>=2017.4.17 in /usr/local/lib/python3.7/dist-packages (from requests->keras_tuner) (2022.5.18.1)\n",
            "Requirement already satisfied: chardet<4,>=3.0.2 in /usr/local/lib/python3.7/dist-packages (from requests->keras_tuner) (3.0.4)\n",
            "Requirement already satisfied: grpcio>=1.24.3 in /usr/local/lib/python3.7/dist-packages (from tensorboard->keras_tuner) (1.46.3)\n",
            "Requirement already satisfied: markdown>=2.6.8 in /usr/local/lib/python3.7/dist-packages (from tensorboard->keras_tuner) (3.3.7)\n",
            "Requirement already satisfied: protobuf>=3.6.0 in /usr/local/lib/python3.7/dist-packages (from tensorboard->keras_tuner) (3.17.3)\n",
            "Requirement already satisfied: google-auth<3,>=1.6.3 in /usr/local/lib/python3.7/dist-packages (from tensorboard->keras_tuner) (1.35.0)\n",
            "Requirement already satisfied: absl-py>=0.4 in /usr/local/lib/python3.7/dist-packages (from tensorboard->keras_tuner) (1.0.0)\n",
            "Requirement already satisfied: tensorboard-data-server<0.7.0,>=0.6.0 in /usr/local/lib/python3.7/dist-packages (from tensorboard->keras_tuner) (0.6.1)\n",
            "Requirement already satisfied: werkzeug>=0.11.15 in /usr/local/lib/python3.7/dist-packages (from tensorboard->keras_tuner) (1.0.1)\n",
            "Requirement already satisfied: tensorboard-plugin-wit>=1.6.0 in /usr/local/lib/python3.7/dist-packages (from tensorboard->keras_tuner) (1.8.1)\n",
            "Requirement already satisfied: google-auth-oauthlib<0.5,>=0.4.1 in /usr/local/lib/python3.7/dist-packages (from tensorboard->keras_tuner) (0.4.6)\n",
            "Requirement already satisfied: wheel>=0.26 in /usr/local/lib/python3.7/dist-packages (from tensorboard->keras_tuner) (0.37.1)\n",
            "Requirement already satisfied: rsa<5,>=3.1.4 in /usr/local/lib/python3.7/dist-packages (from google-auth<3,>=1.6.3->tensorboard->keras_tuner) (4.8)\n",
            "Requirement already satisfied: cachetools<5.0,>=2.0.0 in /usr/local/lib/python3.7/dist-packages (from google-auth<3,>=1.6.3->tensorboard->keras_tuner) (4.2.4)\n",
            "Requirement already satisfied: pyasn1-modules>=0.2.1 in /usr/local/lib/python3.7/dist-packages (from google-auth<3,>=1.6.3->tensorboard->keras_tuner) (0.2.8)\n",
            "Requirement already satisfied: requests-oauthlib>=0.7.0 in /usr/local/lib/python3.7/dist-packages (from google-auth-oauthlib<0.5,>=0.4.1->tensorboard->keras_tuner) (1.3.1)\n",
            "Requirement already satisfied: importlib-metadata>=4.4 in /usr/local/lib/python3.7/dist-packages (from markdown>=2.6.8->tensorboard->keras_tuner) (4.11.4)\n",
            "Requirement already satisfied: typing-extensions>=3.6.4 in /usr/local/lib/python3.7/dist-packages (from importlib-metadata>=4.4->markdown>=2.6.8->tensorboard->keras_tuner) (4.2.0)\n",
            "Requirement already satisfied: zipp>=0.5 in /usr/local/lib/python3.7/dist-packages (from importlib-metadata>=4.4->markdown>=2.6.8->tensorboard->keras_tuner) (3.8.0)\n",
            "Requirement already satisfied: pyasn1<0.5.0,>=0.4.6 in /usr/local/lib/python3.7/dist-packages (from pyasn1-modules>=0.2.1->google-auth<3,>=1.6.3->tensorboard->keras_tuner) (0.4.8)\n",
            "Requirement already satisfied: oauthlib>=3.0.0 in /usr/local/lib/python3.7/dist-packages (from requests-oauthlib>=0.7.0->google-auth-oauthlib<0.5,>=0.4.1->tensorboard->keras_tuner) (3.2.0)\n",
            "Installing collected packages: kt-legacy, keras-tuner\n",
            "Successfully installed keras-tuner-1.1.2 kt-legacy-1.0.4\n"
          ]
        }
      ],
      "source": [
        "pip install keras_tuner"
      ],
      "id": "LshOA6OMaXN6"
    },
    {
      "cell_type": "code",
      "execution_count": 6,
      "metadata": {
        "colab": {
          "base_uri": "https://localhost:8080/"
        },
        "id": "8OfYO15SaZPk",
        "outputId": "4b34a89d-9958-4d4a-e7f4-df4670909fb4"
      },
      "outputs": [
        {
          "output_type": "stream",
          "name": "stdout",
          "text": [
            "Looking in indexes: https://pypi.org/simple, https://us-python.pkg.dev/colab-wheels/public/simple/\n",
            "Requirement already satisfied: graphviz in /usr/local/lib/python3.7/dist-packages (0.10.1)\n"
          ]
        }
      ],
      "source": [
        "pip install graphviz"
      ],
      "id": "8OfYO15SaZPk"
    },
    {
      "cell_type": "code",
      "execution_count": 7,
      "metadata": {
        "colab": {
          "base_uri": "https://localhost:8080/"
        },
        "id": "8sPr_79RabFH",
        "outputId": "c9ace5a4-8359-42f4-d8c2-e83836931008"
      },
      "outputs": [
        {
          "output_type": "stream",
          "name": "stdout",
          "text": [
            "Looking in indexes: https://pypi.org/simple, https://us-python.pkg.dev/colab-wheels/public/simple/\n",
            "Requirement already satisfied: pydot in /usr/local/lib/python3.7/dist-packages (1.3.0)\n",
            "Requirement already satisfied: pyparsing>=2.1.4 in /usr/local/lib/python3.7/dist-packages (from pydot) (3.0.9)\n"
          ]
        }
      ],
      "source": [
        "pip install pydot"
      ],
      "id": "8sPr_79RabFH"
    },
    {
      "cell_type": "markdown",
      "metadata": {
        "id": "ba915f3f"
      },
      "source": [
        "# Importing Libraries"
      ],
      "id": "ba915f3f"
    },
    {
      "cell_type": "code",
      "execution_count": 41,
      "metadata": {
        "colab": {
          "base_uri": "https://localhost:8080/"
        },
        "id": "e5f1a18b",
        "outputId": "67db8e14-f5b8-4173-b675-de11ecf097c7"
      },
      "outputs": [
        {
          "output_type": "stream",
          "name": "stdout",
          "text": [
            "Libraries imported successfully\n"
          ]
        }
      ],
      "source": [
        "import numpy as np\n",
        "\n",
        "import cv2\n",
        "\n",
        "from keras.models import Sequential\n",
        "from tensorflow import keras\n",
        "from tensorflow.keras.utils import to_categorical\n",
        "from keras.layers import BatchNormalization\n",
        "from keras.layers import Dense, Dropout, Flatten, Conv2D, MaxPooling2D\n",
        "from tensorflow.keras import optimizers\n",
        "from keras_tuner import HyperParameters, BayesianOptimization\n",
        "\n",
        "from tensorflow.keras.preprocessing.image import ImageDataGenerator\n",
        "\n",
        "from sklearn.model_selection import train_test_split\n",
        "\n",
        "import matplotlib.pyplot as plt\n",
        "from plot_keras_history import show_history, plot_history\n",
        "\n",
        "print('Libraries imported successfully')"
      ],
      "id": "e5f1a18b"
    },
    {
      "cell_type": "markdown",
      "metadata": {
        "id": "0e03e4c4"
      },
      "source": [
        "# Loading dataset"
      ],
      "id": "0e03e4c4"
    },
    {
      "cell_type": "code",
      "execution_count": 42,
      "metadata": {
        "colab": {
          "base_uri": "https://localhost:8080/"
        },
        "id": "5050c75f",
        "outputId": "c7cf14e0-adf3-4a2f-840e-7fc54200467f"
      },
      "outputs": [
        {
          "output_type": "stream",
          "name": "stdout",
          "text": [
            "Drive already mounted at /content/drive; to attempt to forcibly remount, call drive.mount(\"/content/drive\", force_remount=True).\n"
          ]
        }
      ],
      "source": [
        "from google.colab import drive\n",
        "drive.mount('/content/drive')\n",
        "\n",
        "data = np.load('/content/drive/MyDrive/Colab Notebooks/mnist_2digits_10K.npy') \n",
        "\n",
        "labels = np.load('/content/drive/MyDrive/Colab Notebooks/mnist_2digits_10K_labels.npy')"
      ],
      "id": "5050c75f"
    },
    {
      "cell_type": "markdown",
      "metadata": {
        "id": "545125fe"
      },
      "source": [
        "# Cheking the dataset shape, dtype"
      ],
      "id": "545125fe"
    },
    {
      "cell_type": "code",
      "execution_count": 43,
      "metadata": {
        "colab": {
          "base_uri": "https://localhost:8080/"
        },
        "id": "659ee737",
        "outputId": "816d38b6-68bf-4b12-aecd-5e40ebf7764a"
      },
      "outputs": [
        {
          "output_type": "execute_result",
          "data": {
            "text/plain": [
              "(10000, 32, 32)"
            ]
          },
          "metadata": {},
          "execution_count": 43
        }
      ],
      "source": [
        "data.shape"
      ],
      "id": "659ee737"
    },
    {
      "cell_type": "code",
      "execution_count": 44,
      "metadata": {
        "colab": {
          "base_uri": "https://localhost:8080/"
        },
        "id": "fa6c78ca",
        "outputId": "935b513b-2115-413c-9a22-0f207aa285bb"
      },
      "outputs": [
        {
          "output_type": "execute_result",
          "data": {
            "text/plain": [
              "dtype('float32')"
            ]
          },
          "metadata": {},
          "execution_count": 44
        }
      ],
      "source": [
        "data.dtype"
      ],
      "id": "fa6c78ca"
    },
    {
      "cell_type": "code",
      "execution_count": 45,
      "metadata": {
        "colab": {
          "base_uri": "https://localhost:8080/"
        },
        "id": "04deeec9",
        "outputId": "9f73d91c-db4f-4930-929c-05c7f58d3807"
      },
      "outputs": [
        {
          "output_type": "execute_result",
          "data": {
            "text/plain": [
              "(1.0, 0.0)"
            ]
          },
          "metadata": {},
          "execution_count": 45
        }
      ],
      "source": [
        "np.max(data), np.min(data)"
      ],
      "id": "04deeec9"
    },
    {
      "cell_type": "markdown",
      "source": [
        "# Checking digits distributions"
      ],
      "metadata": {
        "id": "JROmfaQ66gzd"
      },
      "id": "JROmfaQ66gzd"
    },
    {
      "cell_type": "code",
      "source": [
        "histogram = {}\n",
        "\n",
        "def get_frequencies_of(data, number):\n",
        "    '''Nothing'''\n",
        "    \n",
        "    selected = []\n",
        "    \n",
        "    for v in data:\n",
        "    \n",
        "        if v[0] == number or v[1] == number:\n",
        "        \n",
        "            selected.append(True)\n",
        "        \n",
        "        else:\n",
        "        \n",
        "            selected.append(False)\n",
        "        \n",
        "###\n",
        "\n",
        "    return len(data[selected]), selected\n",
        "\n",
        "\n",
        "for i in range(10):\n",
        "    \n",
        "    histogram[i] = get_frequencies_of(labels, i)[0]\n",
        "    "
      ],
      "metadata": {
        "id": "LTZviBEE6nnf"
      },
      "id": "LTZviBEE6nnf",
      "execution_count": 46,
      "outputs": []
    },
    {
      "cell_type": "code",
      "source": [
        "\n",
        "plt.bar(histogram.keys(), histogram.values(), color = 'cyan')   \n",
        "\n",
        "plt.xlabel('Single Digits')\n",
        "plt.ylabel('Frequencies')\n",
        "\n",
        "plt.title('Digits frequencies in the dataset')\n",
        "\n",
        "plt.show()"
      ],
      "metadata": {
        "colab": {
          "base_uri": "https://localhost:8080/",
          "height": 295
        },
        "id": "cVn_Vhjj6ryT",
        "outputId": "f70b8ac9-2a7d-46ba-d250-4a4806b588d2"
      },
      "id": "cVn_Vhjj6ryT",
      "execution_count": 47,
      "outputs": [
        {
          "output_type": "display_data",
          "data": {
            "text/plain": [
              "<Figure size 432x288 with 1 Axes>"
            ],
            "image/png": "[encoded data removed]"
          },
          "metadata": {
            "needs_background": "light"
          }
        }
      ]
    },
    {
      "cell_type": "code",
      "source": [
        "for i in range(10):\n",
        "    \n",
        "    histogram[i] = get_frequencies_of(labels[-1000: , :], i)[0]\n",
        "    \n",
        "plt.bar(histogram.keys(), histogram.values())   \n",
        "\n",
        "plt.xlabel('Single Digits')\n",
        "plt.ylabel('Frequencies')\n",
        "\n",
        "plt.title('Digits frequencies in the test set')\n",
        "\n",
        "plt.show()"
      ],
      "metadata": {
        "colab": {
          "base_uri": "https://localhost:8080/",
          "height": 295
        },
        "id": "KuzbxWGf6uNL",
        "outputId": "c918e27d-d61f-40ca-accf-2c0081ac0c32"
      },
      "id": "KuzbxWGf6uNL",
      "execution_count": 48,
      "outputs": [
        {
          "output_type": "display_data",
          "data": {
            "text/plain": [
              "<Figure size 432x288 with 1 Axes>"
            ],
            "image/png": "[encoded data removed]"
          },
          "metadata": {
            "needs_background": "light"
          }
        }
      ]
    },
    {
      "cell_type": "markdown",
      "source": [
        "# Preprocessing"
      ],
      "metadata": {
        "id": "R3D8Sn_263wi"
      },
      "id": "R3D8Sn_263wi"
    },
    {
      "cell_type": "code",
      "source": [
        "for i, v in enumerate(data):\n",
        "    \n",
        "    data[i] = cv2.equalizeHist(np.uint8(np.multiply(v, 255))) / 255 #cv2.Canny(np.uint8(np.multiply(v, 255)), 127, 255)"
      ],
      "metadata": {
        "id": "gCGJxb7s67ws"
      },
      "id": "gCGJxb7s67ws",
      "execution_count": 49,
      "outputs": []
    },
    {
      "cell_type": "markdown",
      "metadata": {
        "id": "3c0d717c"
      },
      "source": [
        "## Concatening labels(two columns) into one target column"
      ],
      "id": "3c0d717c"
    },
    {
      "cell_type": "code",
      "execution_count": 50,
      "metadata": {
        "id": "ead774d7",
        "scrolled": false
      },
      "outputs": [],
      "source": [
        "target_map = dict()\n",
        "\n",
        "decoding_map = dict()\n",
        "\n",
        "combined_labels = [sorted([l[0] ,l[1]]) for l in labels]\n",
        "\n",
        "combined_labels = [str(l[0]) + str(l[1]) for l in combined_labels]\n",
        "\n",
        "target_label = np.unique(combined_labels)\n",
        "\n",
        "for index, value in enumerate(target_label):\n",
        "    \n",
        "    target_map[value] = index\n",
        "    \n",
        "##\n",
        "for i, v in target_map.items():\n",
        "\n",
        "  decoding_map[v] = i\n",
        "\n",
        "##\n",
        "combined_labels = [target_map[value] for value in combined_labels]\n",
        "\n",
        "target = list(target_map)"
      ],
      "id": "ead774d7"
    },
    {
      "cell_type": "markdown",
      "metadata": {
        "id": "773f271f"
      },
      "source": [
        "## Splitting dataset into test & train with its labels"
      ],
      "id": "773f271f"
    },
    {
      "cell_type": "code",
      "execution_count": 51,
      "metadata": {
        "colab": {
          "base_uri": "https://localhost:8080/"
        },
        "id": "9bb6a0d8",
        "outputId": "5d2aafaf-1bba-4e70-ff10-ccdfb1f3d59f"
      },
      "outputs": [
        {
          "output_type": "stream",
          "name": "stdout",
          "text": [
            "Train:  (9000, 32, 32), labels: (9000, 45)\n",
            "Test:   (1000, 32, 32), labels: (1000, 45)\n"
          ]
        }
      ],
      "source": [
        "test_percent = 0.1\n",
        "\n",
        "number_of_classes = len(target)\n",
        "\n",
        "data_length = len(data)\n",
        "\n",
        "x_train = data[: -int(data_length * test_percent)]\n",
        "\n",
        "y_train = combined_labels[: -int(data_length * test_percent) :]\n",
        "\n",
        "x_test = data[-int(data_length * test_percent) :]\n",
        "\n",
        "y_test = combined_labels[-int(data_length * test_percent) :]\n",
        "\n",
        "y_train = to_categorical(y_train, num_classes= number_of_classes, dtype='float32')\n",
        "\n",
        "y_test = to_categorical(y_test, num_classes= number_of_classes, dtype='float32')\n",
        "\n",
        "print('Train: ', x_train.shape, end= ', labels: ')\n",
        "print(y_train.shape)\n",
        "print('Test:  ', x_test.shape, end= ', labels: ')\n",
        "print(y_test.shape)"
      ],
      "id": "9bb6a0d8"
    },
    {
      "cell_type": "markdown",
      "metadata": {
        "id": "c89318ad"
      },
      "source": [
        "## Building CNN Model with keras tuner options"
      ],
      "id": "c89318ad"
    },
    {
      "cell_type": "code",
      "execution_count": 52,
      "metadata": {
        "id": "a8232a91"
      },
      "outputs": [],
      "source": [
        "def build_model(hp):\n",
        "    \n",
        "    number_of_classes = len(target)\n",
        "    \n",
        "    model = Sequential()\n",
        "    \n",
        "    model.add(\n",
        "        Conv2D( \n",
        "               hp.Int(\"filters0\", min_value= 64, max_value= 128, step= 8),\n",
        "               (3, 3),\n",
        "               input_shape= (32, 32, 1),\n",
        "               activation= 'relu', \n",
        "               padding= hp.Choice('Padding0', ['same', 'valid'])\n",
        "              )\n",
        "    )\n",
        "    \n",
        "    model.add(MaxPooling2D(pool_size= (2, 2)))\n",
        "          \n",
        "    for i in range(hp.Int(\"cnn_layers\", min_value= 1, max_value= 2)):\n",
        "                   \n",
        "        model.add(\n",
        "            Conv2D(\n",
        "                    hp.Int(f\"filters1_{i}\", min_value= 32, max_value= 128, step= 8),\n",
        "                    (3, 3),\n",
        "                    activation= 'relu',\n",
        "                    padding= hp.Choice('Padding1', ['same', 'valid'])\n",
        "                 )\n",
        "        )\n",
        "        \n",
        "        model.add(MaxPooling2D(pool_size= (2, 2)))\n",
        "        \n",
        "                \n",
        "    model.add(BatchNormalization())\n",
        "        \n",
        "        ###\n",
        "    model.add(Flatten())\n",
        "\n",
        "    drop_rate0 = hp.Float(f'dropout_value0', min_value = 0.2, max_value= 0.5, sampling= \"log\")\n",
        "\n",
        "    model.add(Dropout(rate= drop_rate0))\n",
        "    \n",
        "    num_of_layers = hp.Int('num_layers', min_value= 1, max_value= 4)\n",
        "    \n",
        "    for i in range(num_of_layers):\n",
        "        \n",
        "        model.add(\n",
        "            \n",
        "            Dense(\n",
        "                \n",
        "                units= hp.Int(f\"units_{i}\", min_value= 1024, max_value= 2048, step= 256),\n",
        "                \n",
        "                activation= hp.Choice(f'activation_{i}', ['relu', 'tanh', 'sigmoid']),\n",
        "            )\n",
        "        )\n",
        "    \n",
        "        drop_rate1 = hp.Float(f'dropout_value1_{i}', min_value = 0.2, max_value= 0.5, sampling= \"log\")\n",
        "\n",
        "        model.add(Dropout(rate= drop_rate1))\n",
        "                   \n",
        "    model.add(Dense(number_of_classes, activation= \"softmax\"))\n",
        "                   \n",
        "    learning_rate = hp.Float(\"learnin_rate\", min_value=1e-4, max_value=1e-3, sampling= \"log\")\n",
        "    \n",
        "    momentum = hp.Float(\"momentum\", min_value= 0.1, max_value= 0.9, sampling= \"log\")\n",
        "                   \n",
        "    nesterov = hp.Boolean(\"nesterov\")\n",
        "    \n",
        "    opt_selection = hp.Int('Optimizer', min_value= 1, max_value= 4)\n",
        "\n",
        "    if opt_selection == 1:\n",
        "\n",
        "      opt = optimizers.SGD(learning_rate= learning_rate, momentum= momentum, nesterov= nesterov)\n",
        "\n",
        "    elif opt_selection == 2:\n",
        "\n",
        "      opt = optimizers.RMSprop(learning_rate= learning_rate)\n",
        "\n",
        "    elif opt_selection == 3:\n",
        "\n",
        "      opt = optimizers.Adam(learning_rate= learning_rate)\n",
        "\n",
        "    elif opt_selection == 4:\n",
        "\n",
        "      opt = optimizers.Nadam(learning_rate= learning_rate)\n",
        "\n",
        "    model.compile(\n",
        "        \n",
        "        optimizer=  opt,\n",
        "        \n",
        "        loss= \"categorical_crossentropy\",\n",
        "        \n",
        "        metrics= [\"accuracy\"],\n",
        "    )\n",
        "    \n",
        "    print('# paramters: ', model.count_params())\n",
        "    \n",
        "    return model"
      ],
      "id": "a8232a91"
    },
    {
      "cell_type": "markdown",
      "metadata": {
        "id": "61f8c4e1"
      },
      "source": [
        "## Tuning model"
      ],
      "id": "61f8c4e1"
    },
    {
      "cell_type": "code",
      "execution_count": 60,
      "metadata": {
        "colab": {
          "base_uri": "https://localhost:8080/"
        },
        "id": "6a7c5775",
        "scrolled": false,
        "outputId": "2e8e17d6-87b2-4170-a5cf-0f8f1e046bfa"
      },
      "outputs": [
        {
          "output_type": "stream",
          "name": "stdout",
          "text": [
            "Trial 20 Complete [00h 02m 11s]\n",
            "val_accuracy: 0.6159999966621399\n",
            "\n",
            "Best val_accuracy So Far: 0.6850000023841858\n",
            "Total elapsed time: 00h 56m 00s\n",
            "INFO:tensorflow:Oracle triggered exit\n"
          ]
        }
      ],
      "source": [
        "tuner = BayesianOptimization(\n",
        "                            build_model,\n",
        "                            'val_accuracy',\n",
        "                            20,\n",
        "                            num_initial_points= 2,\n",
        "                            alpha= 0.0001,\n",
        "                            beta= 2.6,\n",
        "                            seed= 23,\n",
        "                            hyperparameters= HyperParameters(),\n",
        "                            overwrite= True,\n",
        "                            directory=\"/Tunning\",\n",
        "                            project_name=\"InaitTask\",\n",
        "                            )\n",
        "###\n",
        "train_datagen = ImageDataGenerator( \n",
        "                                    featurewise_center= True,\n",
        "                                    featurewise_std_normalization= True,\n",
        "                                    rotation_range= 20, \n",
        "                                    width_shift_range= 0.2, \n",
        "                                    height_shift_range= 0.2, \n",
        "                                    zoom_range= 0.2, \n",
        "                                    horizontal_flip= True,\n",
        "                                    fill_mode=\"nearest\" \n",
        "                                  ) \n",
        "\n",
        "tuner.search(\n",
        "              train_datagen.flow(\n",
        "                                x_train.reshape(x_train.shape[0], 32, 32, 1),\n",
        "                                y_train,\n",
        "                                batch_size= 128, \n",
        "                                seed= 27,\n",
        "                                shuffle= False\n",
        "                                ),\n",
        "             epochs= 50, \n",
        "             validation_data= (x_test, y_test), \n",
        "             verbose= 2\n",
        "             )"
      ],
      "id": "6a7c5775"
    },
    {
      "cell_type": "code",
      "execution_count": 61,
      "metadata": {
        "colab": {
          "base_uri": "https://localhost:8080/"
        },
        "id": "c1943cdd",
        "outputId": "839c6ac2-83c6-4d23-a3a1-50b63c5c1719"
      },
      "outputs": [
        {
          "output_type": "stream",
          "name": "stdout",
          "text": [
            "Results summary\n",
            "Results in /Tunning/InaitTask\n",
            "Showing 10 best trials\n",
            "<keras_tuner.engine.objective.Objective object at 0x7f2a9c107510>\n",
            "Trial summary\n",
            "Hyperparameters:\n",
            "filters0: 88\n",
            "Padding0: valid\n",
            "cnn_layers: 1\n",
            "filters1_0: 128\n",
            "Padding1: same\n",
            "dropout_value0: 0.2\n",
            "num_layers: 1\n",
            "units_0: 1280\n",
            "activation_0: relu\n",
            "dropout_value1_0: 0.2\n",
            "learnin_rate: 0.001\n",
            "momentum: 0.1\n",
            "nesterov: False\n",
            "Optimizer: 4\n",
            "units_1: 1024\n",
            "activation_1: relu\n",
            "dropout_value1_1: 0.2\n",
            "units_2: 1024\n",
            "activation_2: relu\n",
            "dropout_value1_2: 0.2\n",
            "filters1_1: 32\n",
            "units_3: 1024\n",
            "activation_3: sigmoid\n",
            "dropout_value1_3: 0.2\n",
            "Score: 0.6850000023841858\n",
            "Trial summary\n",
            "Hyperparameters:\n",
            "filters0: 128\n",
            "Padding0: valid\n",
            "cnn_layers: 1\n",
            "filters1_0: 128\n",
            "Padding1: valid\n",
            "dropout_value0: 0.23339688356362487\n",
            "num_layers: 1\n",
            "units_0: 1280\n",
            "activation_0: relu\n",
            "dropout_value1_0: 0.2\n",
            "learnin_rate: 0.000748076451332686\n",
            "momentum: 0.1\n",
            "nesterov: False\n",
            "Optimizer: 4\n",
            "units_1: 1024\n",
            "activation_1: relu\n",
            "dropout_value1_1: 0.2\n",
            "units_2: 1024\n",
            "activation_2: relu\n",
            "dropout_value1_2: 0.2\n",
            "filters1_1: 32\n",
            "units_3: 1024\n",
            "activation_3: sigmoid\n",
            "dropout_value1_3: 0.2\n",
            "Score: 0.6769999861717224\n",
            "Trial summary\n",
            "Hyperparameters:\n",
            "filters0: 104\n",
            "Padding0: valid\n",
            "cnn_layers: 1\n",
            "filters1_0: 128\n",
            "Padding1: same\n",
            "dropout_value0: 0.2\n",
            "num_layers: 1\n",
            "units_0: 1280\n",
            "activation_0: relu\n",
            "dropout_value1_0: 0.2\n",
            "learnin_rate: 0.001\n",
            "momentum: 0.1\n",
            "nesterov: False\n",
            "Optimizer: 4\n",
            "units_1: 1024\n",
            "activation_1: relu\n",
            "dropout_value1_1: 0.2\n",
            "units_2: 1024\n",
            "activation_2: relu\n",
            "dropout_value1_2: 0.2\n",
            "filters1_1: 32\n",
            "units_3: 1024\n",
            "activation_3: sigmoid\n",
            "dropout_value1_3: 0.5\n",
            "Score: 0.6759999990463257\n",
            "Trial summary\n",
            "Hyperparameters:\n",
            "filters0: 104\n",
            "Padding0: valid\n",
            "cnn_layers: 1\n",
            "filters1_0: 128\n",
            "Padding1: same\n",
            "dropout_value0: 0.2\n",
            "num_layers: 1\n",
            "units_0: 1280\n",
            "activation_0: relu\n",
            "dropout_value1_0: 0.2\n",
            "learnin_rate: 0.001\n",
            "momentum: 0.1\n",
            "nesterov: False\n",
            "Optimizer: 4\n",
            "units_1: 1024\n",
            "activation_1: relu\n",
            "dropout_value1_1: 0.4883922516550594\n",
            "units_2: 1024\n",
            "activation_2: relu\n",
            "dropout_value1_2: 0.2\n",
            "filters1_1: 32\n",
            "units_3: 1024\n",
            "activation_3: sigmoid\n",
            "dropout_value1_3: 0.2757501544771696\n",
            "Score: 0.6660000085830688\n",
            "Trial summary\n",
            "Hyperparameters:\n",
            "filters0: 88\n",
            "Padding0: valid\n",
            "cnn_layers: 1\n",
            "filters1_0: 128\n",
            "Padding1: valid\n",
            "dropout_value0: 0.2\n",
            "num_layers: 1\n",
            "units_0: 1280\n",
            "activation_0: relu\n",
            "dropout_value1_0: 0.2\n",
            "learnin_rate: 0.001\n",
            "momentum: 0.1\n",
            "nesterov: False\n",
            "Optimizer: 4\n",
            "units_1: 1024\n",
            "activation_1: relu\n",
            "dropout_value1_1: 0.2\n",
            "units_2: 1024\n",
            "activation_2: sigmoid\n",
            "dropout_value1_2: 0.2\n",
            "filters1_1: 32\n",
            "units_3: 1024\n",
            "activation_3: sigmoid\n",
            "dropout_value1_3: 0.2\n",
            "Score: 0.6629999876022339\n",
            "Trial summary\n",
            "Hyperparameters:\n",
            "filters0: 112\n",
            "Padding0: valid\n",
            "cnn_layers: 1\n",
            "filters1_0: 128\n",
            "Padding1: same\n",
            "dropout_value0: 0.43061282791288624\n",
            "num_layers: 1\n",
            "units_0: 1024\n",
            "activation_0: relu\n",
            "dropout_value1_0: 0.2\n",
            "learnin_rate: 0.0008917184900588686\n",
            "momentum: 0.1\n",
            "nesterov: False\n",
            "Optimizer: 4\n",
            "units_1: 1280\n",
            "activation_1: relu\n",
            "dropout_value1_1: 0.2\n",
            "units_2: 1024\n",
            "activation_2: tanh\n",
            "dropout_value1_2: 0.2\n",
            "filters1_1: 32\n",
            "units_3: 1024\n",
            "activation_3: sigmoid\n",
            "dropout_value1_3: 0.2\n",
            "Score: 0.656000018119812\n",
            "Trial summary\n",
            "Hyperparameters:\n",
            "filters0: 96\n",
            "Padding0: valid\n",
            "cnn_layers: 1\n",
            "filters1_0: 128\n",
            "Padding1: valid\n",
            "dropout_value0: 0.2\n",
            "num_layers: 1\n",
            "units_0: 1024\n",
            "activation_0: relu\n",
            "dropout_value1_0: 0.2\n",
            "learnin_rate: 0.001\n",
            "momentum: 0.1\n",
            "nesterov: False\n",
            "Optimizer: 4\n",
            "units_1: 2048\n",
            "activation_1: relu\n",
            "dropout_value1_1: 0.2\n",
            "units_2: 1024\n",
            "activation_2: relu\n",
            "dropout_value1_2: 0.2\n",
            "filters1_1: 32\n",
            "units_3: 1024\n",
            "activation_3: sigmoid\n",
            "dropout_value1_3: 0.2\n",
            "Score: 0.6539999842643738\n",
            "Trial summary\n",
            "Hyperparameters:\n",
            "filters0: 96\n",
            "Padding0: valid\n",
            "cnn_layers: 1\n",
            "filters1_0: 128\n",
            "Padding1: same\n",
            "dropout_value0: 0.2\n",
            "num_layers: 1\n",
            "units_0: 1280\n",
            "activation_0: relu\n",
            "dropout_value1_0: 0.2\n",
            "learnin_rate: 0.001\n",
            "momentum: 0.1\n",
            "nesterov: False\n",
            "Optimizer: 4\n",
            "units_1: 1024\n",
            "activation_1: relu\n",
            "dropout_value1_1: 0.21515662257553894\n",
            "units_2: 1024\n",
            "activation_2: relu\n",
            "dropout_value1_2: 0.2\n",
            "filters1_1: 128\n",
            "units_3: 1024\n",
            "activation_3: sigmoid\n",
            "dropout_value1_3: 0.2787874771347503\n",
            "Score: 0.6489999890327454\n",
            "Trial summary\n",
            "Hyperparameters:\n",
            "filters0: 72\n",
            "Padding0: same\n",
            "cnn_layers: 1\n",
            "filters1_0: 128\n",
            "Padding1: valid\n",
            "dropout_value0: 0.2700153759227153\n",
            "num_layers: 1\n",
            "units_0: 1024\n",
            "activation_0: relu\n",
            "dropout_value1_0: 0.2\n",
            "learnin_rate: 0.001\n",
            "momentum: 0.1\n",
            "nesterov: False\n",
            "Optimizer: 4\n",
            "units_1: 1024\n",
            "activation_1: relu\n",
            "dropout_value1_1: 0.2\n",
            "units_2: 1024\n",
            "activation_2: relu\n",
            "dropout_value1_2: 0.2\n",
            "filters1_1: 32\n",
            "units_3: 1024\n",
            "activation_3: sigmoid\n",
            "dropout_value1_3: 0.2\n",
            "Score: 0.6470000147819519\n",
            "Trial summary\n",
            "Hyperparameters:\n",
            "filters0: 112\n",
            "Padding0: valid\n",
            "cnn_layers: 1\n",
            "filters1_0: 128\n",
            "Padding1: same\n",
            "dropout_value0: 0.2\n",
            "num_layers: 1\n",
            "units_0: 1024\n",
            "activation_0: relu\n",
            "dropout_value1_0: 0.47066082963911526\n",
            "learnin_rate: 0.001\n",
            "momentum: 0.1\n",
            "nesterov: False\n",
            "Optimizer: 4\n",
            "units_1: 1024\n",
            "activation_1: relu\n",
            "dropout_value1_1: 0.2\n",
            "units_2: 1024\n",
            "activation_2: relu\n",
            "dropout_value1_2: 0.2\n",
            "filters1_1: 32\n",
            "units_3: 1024\n",
            "activation_3: sigmoid\n",
            "dropout_value1_3: 0.2\n",
            "Score: 0.6449999809265137\n"
          ]
        }
      ],
      "source": [
        "tuner.results_summary()"
      ],
      "id": "c1943cdd"
    },
    {
      "cell_type": "markdown",
      "metadata": {
        "id": "8450a43f"
      },
      "source": [
        "## Choose best model"
      ],
      "id": "8450a43f"
    },
    {
      "cell_type": "code",
      "execution_count": 62,
      "metadata": {
        "colab": {
          "base_uri": "https://localhost:8080/"
        },
        "id": "6f92deac",
        "outputId": "60d4dd15-1d5c-41c5-821c-336a6d0ea860"
      },
      "outputs": [
        {
          "output_type": "stream",
          "name": "stdout",
          "text": [
            "# paramters:  8189981\n",
            "# paramters:  6106541\n",
            "# paramters:  8208573\n",
            "# paramters:  8208573\n",
            "# paramters:  6060061\n",
            "WARNING:tensorflow:Detecting that an object or model or tf.train.Checkpoint is being deleted with unrestored values. See the following logs for the specific values in question. To silence these warnings, use `status.expect_partial()`. See https://www.tensorflow.org/api_docs/python/tf/train/Checkpoint#restorefor details about the status object returned by the restore function.\n",
            "WARNING:tensorflow:Value in checkpoint could not be found in the restored object: (root).optimizer.iter\n",
            "WARNING:tensorflow:Value in checkpoint could not be found in the restored object: (root).optimizer.beta_1\n",
            "WARNING:tensorflow:Value in checkpoint could not be found in the restored object: (root).optimizer.beta_2\n",
            "WARNING:tensorflow:Value in checkpoint could not be found in the restored object: (root).optimizer.decay\n",
            "WARNING:tensorflow:Value in checkpoint could not be found in the restored object: (root).optimizer.learning_rate\n",
            "WARNING:tensorflow:Value in checkpoint could not be found in the restored object: (root).optimizer.momentum_cache\n",
            "WARNING:tensorflow:Detecting that an object or model or tf.train.Checkpoint is being deleted with unrestored values. See the following logs for the specific values in question. To silence these warnings, use `status.expect_partial()`. See https://www.tensorflow.org/api_docs/python/tf/train/Checkpoint#restorefor details about the status object returned by the restore function.\n",
            "WARNING:tensorflow:Value in checkpoint could not be found in the restored object: (root).optimizer.iter\n",
            "WARNING:tensorflow:Value in checkpoint could not be found in the restored object: (root).optimizer.beta_1\n",
            "WARNING:tensorflow:Value in checkpoint could not be found in the restored object: (root).optimizer.beta_2\n",
            "WARNING:tensorflow:Value in checkpoint could not be found in the restored object: (root).optimizer.decay\n",
            "WARNING:tensorflow:Value in checkpoint could not be found in the restored object: (root).optimizer.learning_rate\n",
            "WARNING:tensorflow:Value in checkpoint could not be found in the restored object: (root).optimizer.momentum_cache\n",
            "WARNING:tensorflow:Detecting that an object or model or tf.train.Checkpoint is being deleted with unrestored values. See the following logs for the specific values in question. To silence these warnings, use `status.expect_partial()`. See https://www.tensorflow.org/api_docs/python/tf/train/Checkpoint#restorefor details about the status object returned by the restore function.\n",
            "WARNING:tensorflow:Value in checkpoint could not be found in the restored object: (root).optimizer.iter\n",
            "WARNING:tensorflow:Value in checkpoint could not be found in the restored object: (root).optimizer.beta_1\n",
            "WARNING:tensorflow:Value in checkpoint could not be found in the restored object: (root).optimizer.beta_2\n",
            "WARNING:tensorflow:Value in checkpoint could not be found in the restored object: (root).optimizer.decay\n",
            "WARNING:tensorflow:Value in checkpoint could not be found in the restored object: (root).optimizer.learning_rate\n",
            "WARNING:tensorflow:Value in checkpoint could not be found in the restored object: (root).optimizer.momentum_cache\n",
            "WARNING:tensorflow:Detecting that an object or model or tf.train.Checkpoint is being deleted with unrestored values. See the following logs for the specific values in question. To silence these warnings, use `status.expect_partial()`. See https://www.tensorflow.org/api_docs/python/tf/train/Checkpoint#restorefor details about the status object returned by the restore function.\n",
            "WARNING:tensorflow:Value in checkpoint could not be found in the restored object: (root).optimizer.iter\n",
            "WARNING:tensorflow:Value in checkpoint could not be found in the restored object: (root).optimizer.beta_1\n",
            "WARNING:tensorflow:Value in checkpoint could not be found in the restored object: (root).optimizer.beta_2\n",
            "WARNING:tensorflow:Value in checkpoint could not be found in the restored object: (root).optimizer.decay\n",
            "WARNING:tensorflow:Value in checkpoint could not be found in the restored object: (root).optimizer.learning_rate\n",
            "WARNING:tensorflow:Value in checkpoint could not be found in the restored object: (root).optimizer.momentum_cache\n",
            "Model: \"sequential\"\n",
            "_________________________________________________________________\n",
            " Layer (type)                Output Shape              Param #   \n",
            "=================================================================\n",
            " conv2d (Conv2D)             (None, 30, 30, 128)       1280      \n",
            "                                                                 \n",
            " max_pooling2d (MaxPooling2D  (None, 15, 15, 128)      0         \n",
            " )                                                               \n",
            "                                                                 \n",
            " conv2d_1 (Conv2D)           (None, 13, 13, 128)       147584    \n",
            "                                                                 \n",
            " max_pooling2d_1 (MaxPooling  (None, 6, 6, 128)        0         \n",
            " 2D)                                                             \n",
            "                                                                 \n",
            " batch_normalization (BatchN  (None, 6, 6, 128)        512       \n",
            " ormalization)                                                   \n",
            "                                                                 \n",
            " flatten (Flatten)           (None, 4608)              0         \n",
            "                                                                 \n",
            " dropout (Dropout)           (None, 4608)              0         \n",
            "                                                                 \n",
            " dense (Dense)               (None, 1280)              5899520   \n",
            "                                                                 \n",
            " dropout_1 (Dropout)         (None, 1280)              0         \n",
            "                                                                 \n",
            " dense_1 (Dense)             (None, 45)                57645     \n",
            "                                                                 \n",
            "=================================================================\n",
            "Total params: 6,106,541\n",
            "Trainable params: 6,106,285\n",
            "Non-trainable params: 256\n",
            "_________________________________________________________________\n"
          ]
        }
      ],
      "source": [
        "best_model = tuner.get_best_models(num_models= 5)[0]\n",
        "\n",
        "best_model.build(input_shape= (32, 32, 1))\n",
        "\n",
        "best_model.summary()"
      ],
      "id": "6f92deac"
    },
    {
      "cell_type": "markdown",
      "metadata": {
        "id": "76dd2d5b"
      },
      "source": [
        "## Visualize best model architecture"
      ],
      "id": "76dd2d5b"
    },
    {
      "cell_type": "code",
      "execution_count": 63,
      "metadata": {
        "colab": {
          "base_uri": "https://localhost:8080/",
          "height": 1000
        },
        "id": "80a35c26",
        "outputId": "fc980c6c-234b-4b50-a488-c7705a999baf"
      },
      "outputs": [
        {
          "output_type": "execute_result",
          "data": {
            "text/plain": [
              "<IPython.core.display.Image object>"
            ],
            "image/png": "[encoded data removed]"
          },
          "metadata": {},
          "execution_count": 63
        }
      ],
      "source": [
        "keras.utils.plot_model(best_model, to_file=\"best_model1.png\", show_shapes= True) "
      ],
      "id": "80a35c26"
    },
    {
      "cell_type": "markdown",
      "metadata": {
        "id": "9f643ec1"
      },
      "source": [
        "# Retraining models + plotting performances"
      ],
      "id": "9f643ec1"
    },
    {
      "cell_type": "code",
      "execution_count": 64,
      "metadata": {
        "id": "36ba739b",
        "colab": {
          "base_uri": "https://localhost:8080/",
          "height": 1000
        },
        "outputId": "1e46b39c-aa3c-408e-ef26-6555a76caeaf"
      },
      "outputs": [
        {
          "output_type": "stream",
          "name": "stdout",
          "text": [
            "Epoch 1/30\n",
            "282/282 - 4s - loss: 1.1662 - accuracy: 0.6360 - val_loss: 1.2210 - val_accuracy: 0.6440 - 4s/epoch - 13ms/step\n",
            "Epoch 2/30\n",
            "282/282 - 3s - loss: 0.6490 - accuracy: 0.7931 - val_loss: 0.9657 - val_accuracy: 0.7130 - 3s/epoch - 9ms/step\n",
            "Epoch 3/30\n",
            "282/282 - 3s - loss: 0.3937 - accuracy: 0.8699 - val_loss: 0.9658 - val_accuracy: 0.7060 - 3s/epoch - 9ms/step\n",
            "Epoch 4/30\n",
            "282/282 - 3s - loss: 0.2584 - accuracy: 0.9133 - val_loss: 1.0807 - val_accuracy: 0.6960 - 3s/epoch - 9ms/step\n",
            "Epoch 5/30\n",
            "282/282 - 3s - loss: 0.2021 - accuracy: 0.9341 - val_loss: 1.8793 - val_accuracy: 0.5810 - 3s/epoch - 9ms/step\n",
            "Epoch 6/30\n",
            "282/282 - 3s - loss: 0.1724 - accuracy: 0.9413 - val_loss: 1.1620 - val_accuracy: 0.6950 - 3s/epoch - 9ms/step\n",
            "Epoch 7/30\n",
            "282/282 - 3s - loss: 0.1391 - accuracy: 0.9540 - val_loss: 1.3801 - val_accuracy: 0.6870 - 3s/epoch - 9ms/step\n",
            "Epoch 8/30\n",
            "282/282 - 3s - loss: 0.1179 - accuracy: 0.9617 - val_loss: 1.2676 - val_accuracy: 0.6930 - 3s/epoch - 9ms/step\n",
            "Epoch 9/30\n",
            "282/282 - 3s - loss: 0.1038 - accuracy: 0.9653 - val_loss: 1.1790 - val_accuracy: 0.6960 - 3s/epoch - 9ms/step\n",
            "Epoch 10/30\n",
            "282/282 - 3s - loss: 0.1174 - accuracy: 0.9629 - val_loss: 1.5094 - val_accuracy: 0.6800 - 3s/epoch - 9ms/step\n",
            "Epoch 11/30\n",
            "282/282 - 3s - loss: 0.1156 - accuracy: 0.9640 - val_loss: 1.5923 - val_accuracy: 0.6610 - 3s/epoch - 9ms/step\n",
            "Epoch 12/30\n",
            "282/282 - 3s - loss: 0.1258 - accuracy: 0.9588 - val_loss: 1.9407 - val_accuracy: 0.6060 - 3s/epoch - 9ms/step\n",
            "Epoch 13/30\n",
            "282/282 - 3s - loss: 0.1010 - accuracy: 0.9652 - val_loss: 1.3206 - val_accuracy: 0.7000 - 3s/epoch - 9ms/step\n",
            "Epoch 14/30\n",
            "282/282 - 3s - loss: 0.0894 - accuracy: 0.9701 - val_loss: 1.3975 - val_accuracy: 0.6950 - 3s/epoch - 9ms/step\n",
            "Epoch 15/30\n",
            "282/282 - 3s - loss: 0.0923 - accuracy: 0.9693 - val_loss: 1.9418 - val_accuracy: 0.6320 - 3s/epoch - 9ms/step\n",
            "Epoch 16/30\n",
            "282/282 - 3s - loss: 0.0892 - accuracy: 0.9702 - val_loss: 1.9120 - val_accuracy: 0.6490 - 3s/epoch - 9ms/step\n",
            "Epoch 17/30\n",
            "282/282 - 3s - loss: 0.0935 - accuracy: 0.9694 - val_loss: 1.6686 - val_accuracy: 0.6740 - 3s/epoch - 9ms/step\n",
            "Epoch 18/30\n",
            "282/282 - 3s - loss: 0.0865 - accuracy: 0.9716 - val_loss: 1.5412 - val_accuracy: 0.7000 - 3s/epoch - 9ms/step\n",
            "Epoch 19/30\n",
            "282/282 - 3s - loss: 0.0927 - accuracy: 0.9707 - val_loss: 1.6656 - val_accuracy: 0.6680 - 3s/epoch - 9ms/step\n",
            "Epoch 20/30\n",
            "282/282 - 3s - loss: 0.0781 - accuracy: 0.9727 - val_loss: 1.7494 - val_accuracy: 0.6800 - 3s/epoch - 9ms/step\n",
            "Epoch 21/30\n",
            "282/282 - 3s - loss: 0.0985 - accuracy: 0.9679 - val_loss: 1.9107 - val_accuracy: 0.6510 - 3s/epoch - 9ms/step\n",
            "Epoch 22/30\n",
            "282/282 - 3s - loss: 0.0804 - accuracy: 0.9728 - val_loss: 1.5912 - val_accuracy: 0.6680 - 3s/epoch - 9ms/step\n",
            "Epoch 23/30\n",
            "282/282 - 3s - loss: 0.0873 - accuracy: 0.9718 - val_loss: 2.1563 - val_accuracy: 0.6690 - 3s/epoch - 9ms/step\n",
            "Epoch 24/30\n",
            "282/282 - 3s - loss: 0.0862 - accuracy: 0.9723 - val_loss: 2.0598 - val_accuracy: 0.6480 - 3s/epoch - 9ms/step\n",
            "Epoch 25/30\n",
            "282/282 - 3s - loss: 0.0757 - accuracy: 0.9743 - val_loss: 1.5590 - val_accuracy: 0.6930 - 3s/epoch - 9ms/step\n",
            "Epoch 26/30\n",
            "282/282 - 3s - loss: 0.0739 - accuracy: 0.9768 - val_loss: 1.7041 - val_accuracy: 0.6890 - 3s/epoch - 9ms/step\n",
            "Epoch 27/30\n",
            "282/282 - 3s - loss: 0.0740 - accuracy: 0.9769 - val_loss: 3.8010 - val_accuracy: 0.5050 - 3s/epoch - 9ms/step\n",
            "Epoch 28/30\n",
            "282/282 - 3s - loss: 0.0789 - accuracy: 0.9759 - val_loss: 2.6073 - val_accuracy: 0.6420 - 3s/epoch - 9ms/step\n",
            "Epoch 29/30\n",
            "282/282 - 3s - loss: 0.0983 - accuracy: 0.9691 - val_loss: 2.1232 - val_accuracy: 0.6640 - 3s/epoch - 9ms/step\n",
            "Epoch 30/30\n",
            "282/282 - 3s - loss: 0.0731 - accuracy: 0.9757 - val_loss: 1.6955 - val_accuracy: 0.6840 - 3s/epoch - 9ms/step\n",
            "Test dataset --> Model loss: 1.7 - model accuracy: 68.4%\n"
          ]
        },
        {
          "output_type": "display_data",
          "data": {
            "text/plain": [
              "<Figure size 720x360 with 2 Axes>"
            ],
            "image/png": "[encoded data removed]"
          },
          "metadata": {
            "needs_background": "light"
          }
        }
      ],
      "source": [
        "import datetime\n",
        "\n",
        "history = best_model.fit(x_train, y_train, validation_data= (x_test, y_test), epochs= 30, batch_size= 32, verbose= 0)\n",
        "\n",
        "loss, accuracy = best_model.evaluate(x_test, y_test, verbose= 0)\n",
        "\n",
        "print(f'Test dataset --> Model loss: {np.round(loss, 2)} - model accuracy: {np.round(accuracy * 100, 1)}%')\n",
        "\n",
        "ct = datetime.datetime.now()\n",
        "\n",
        "show_history(history)\n",
        "\n",
        "plot_history(history, path= f'{int(ct.timestamp())}.png')\n",
        "\n",
        "plt.close()"
      ],
      "id": "36ba739b"
    },
    {
      "cell_type": "markdown",
      "source": [
        "# Reverse mapping"
      ],
      "metadata": {
        "id": "qJOMxl1P6-Q7"
      },
      "id": "qJOMxl1P6-Q7"
    },
    {
      "cell_type": "code",
      "source": [
        "sample = 1\n",
        "\n",
        "gt = best_model.predict(x_test)\n",
        "\n",
        "digits = decoding_map[np.where(gt[sample] == max(gt[sample]))[0][0]]\n",
        "\n",
        "list(digits)"
      ],
      "metadata": {
        "colab": {
          "base_uri": "https://localhost:8080/"
        },
        "id": "8hK2tD7N0nAg",
        "outputId": "fae61d59-3a12-4f54-a282-ab5bf653c5c3"
      },
      "id": "8hK2tD7N0nAg",
      "execution_count": 65,
      "outputs": [
        {
          "output_type": "execute_result",
          "data": {
            "text/plain": [
              "['1', '6']"
            ]
          },
          "metadata": {},
          "execution_count": 65
        }
      ]
    },
    {
      "cell_type": "code",
      "source": [
        "target_map"
      ],
      "metadata": {
        "colab": {
          "base_uri": "https://localhost:8080/"
        },
        "id": "SxLwk9yO1Jj7",
        "outputId": "13105894-7713-4348-d133-ed9190b08f9a"
      },
      "id": "SxLwk9yO1Jj7",
      "execution_count": 66,
      "outputs": [
        {
          "output_type": "execute_result",
          "data": {
            "text/plain": [
              "{'01': 0,\n",
              " '02': 1,\n",
              " '03': 2,\n",
              " '04': 3,\n",
              " '05': 4,\n",
              " '06': 5,\n",
              " '07': 6,\n",
              " '08': 7,\n",
              " '09': 8,\n",
              " '12': 9,\n",
              " '13': 10,\n",
              " '14': 11,\n",
              " '15': 12,\n",
              " '16': 13,\n",
              " '17': 14,\n",
              " '18': 15,\n",
              " '19': 16,\n",
              " '23': 17,\n",
              " '24': 18,\n",
              " '25': 19,\n",
              " '26': 20,\n",
              " '27': 21,\n",
              " '28': 22,\n",
              " '29': 23,\n",
              " '34': 24,\n",
              " '35': 25,\n",
              " '36': 26,\n",
              " '37': 27,\n",
              " '38': 28,\n",
              " '39': 29,\n",
              " '45': 30,\n",
              " '46': 31,\n",
              " '47': 32,\n",
              " '48': 33,\n",
              " '49': 34,\n",
              " '56': 35,\n",
              " '57': 36,\n",
              " '58': 37,\n",
              " '59': 38,\n",
              " '67': 39,\n",
              " '68': 40,\n",
              " '69': 41,\n",
              " '78': 42,\n",
              " '79': 43,\n",
              " '89': 44}"
            ]
          },
          "metadata": {},
          "execution_count": 66
        }
      ]
    }
  ],
  "metadata": {
    "accelerator": "GPU",
    "colab": {
      "collapsed_sections": [
        "0e03e4c4",
        "c89318ad"
      ],
      "name": "My_Task4.ipynb",
      "provenance": [],
      "include_colab_link": true
    },
    "kernelspec": {
      "display_name": "Python 3 (ipykernel)",
      "language": "python",
      "name": "python3"
    },
    "language_info": {
      "codemirror_mode": {
        "name": "ipython",
        "version": 3
      },
      "file_extension": ".py",
      "mimetype": "text/x-python",
      "name": "python",
      "nbconvert_exporter": "python",
      "pygments_lexer": "ipython3",
      "version": "3.7.13"
    },
    "toc": {
      "base_numbering": 1,
      "nav_menu": {},
      "number_sections": true,
      "sideBar": true,
      "skip_h1_title": false,
      "title_cell": "Table of Contents",
      "title_sidebar": "Contents",
      "toc_cell": false,
      "toc_position": {},
      "toc_section_display": true,
      "toc_window_display": false
    },
    "varInspector": {
      "cols": {
        "lenName": 16,
        "lenType": 16,
        "lenVar": 40
      },
      "kernels_config": {
        "python": {
          "delete_cmd_postfix": "",
          "delete_cmd_prefix": "del ",
          "library": "var_list.py",
          "varRefreshCmd": "print(var_dic_list())"
        },
        "r": {
          "delete_cmd_postfix": ") ",
          "delete_cmd_prefix": "rm(",
          "library": "var_list.r",
          "varRefreshCmd": "cat(var_dic_list()) "
        }
      },
      "types_to_exclude": [
        "module",
        "function",
        "builtin_function_or_method",
        "instance",
        "_Feature"
      ],
      "window_display": false
    }
  },
  "nbformat": 4,
  "nbformat_minor": 5
}