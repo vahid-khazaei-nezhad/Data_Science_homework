{
 "cells": [
  {
   "cell_type": "code",
   "execution_count": 56,
   "metadata": {},
   "outputs": [],
   "source": [
    "import matplotlib.pyplot as plt\n",
    "import numpy as np\n",
    "import seaborn as sns\n",
    "from statistics import mean"
   ]
  },
  {
   "cell_type": "code",
   "execution_count": 97,
   "metadata": {
    "code_folding": [],
    "run_control": {
     "marked": false
    }
   },
   "outputs": [
    {
     "data": {
      "image/png": "[encoded data removed]",
      "text/plain": [
       "<Figure size 432x288 with 1 Axes>"
      ]
     },
     "metadata": {
      "needs_background": "light"
     },
     "output_type": "display_data"
    }
   ],
   "source": [
    "group1 = [[0.067, 0.21], [0.092, 0.21], \n",
    "  [0.294, 0.445], [0.227, 0.521], [0.185, 0.597], \n",
    "  [0.185, 0.689], [0.235, 0.748], [0.319, 0.773], \n",
    "  [0.387, 0.739], [0.437, 0.672], [0.496, 0.739],\n",
    "  [0.571, 0.773], [0.639, 0.765], [0.765, 0.924],\n",
    "  [0.807, 0.933], [0.849, 0.941]]\n",
    "\n",
    "group2 = [[0.118, 0.143], [0.118, 0.176], \n",
    "  [0.345, 0.378], [0.395, 0.319], [0.437, 0.261],\n",
    "  [0.496, 0.328], [0.546, 0.395], [0.605, 0.462],\n",
    "  [0.655, 0.529], [0.697, 0.597], [0.706, 0.664],\n",
    "  [0.681, 0.723], [0.849, 0.798], [0.857, 0.849],\n",
    "  [0.866, 0.899]]\n",
    "\n",
    "x1 = [x[0] for x in group1]\n",
    "y1 = [x[1] for x in group1]\n",
    "x2 = [x[0] for x in group2]\n",
    "y2 = [x[1] for x in group2]\n",
    "\n",
    "\n",
    "#Visualizing Data\n",
    "plt.scatter(x1, y1, marker ='*',color = 'r', label = 'Group1')\n",
    "plt.scatter(x2, y2, marker ='^',color = 'b', label = 'Group2')\n",
    "\n",
    "plt.plot([0.07, 1.07], ls = ':', color = 'g', label = 'Hypothetical_Line')\n",
    "\n",
    "###\n",
    "\n",
    "y_min_g1 = np.min(y1)\n",
    "y_min_g2 = np.min(y2)\n",
    "\n",
    "#for y-intercept calculating diffference between minimume y in 2 groups\n",
    "b = max(y_min_g1, y_min_g2) - min(y_min_g1, y_min_g2)\n",
    "\n",
    "#obtaining the slope (diff) of each groups\n",
    "m1,_ = np.polyfit(x1, y1, 1)\n",
    "m2,_ = np.polyfit(x2, y2, 1)\n",
    "\n",
    "#choosing the max slope of 2 groups for the seperation line\n",
    "m = max(m1, m2)\n",
    "\n",
    "#plotting calculated linear line with slope = m and y_intercept = b\n",
    "plt.plot(X, m * X + b, color = 'y', ls = '-.', label = 'calculated_line')\n",
    "\n",
    "plt.legend()\n",
    "plt.show()"
   ]
  },
  {
   "cell_type": "code",
   "execution_count": null,
   "metadata": {},
   "outputs": [],
   "source": []
  }
 ],
 "metadata": {
  "kernelspec": {
   "display_name": "Python 3",
   "language": "python",
   "name": "python3"
  },
  "language_info": {
   "codemirror_mode": {
    "name": "ipython",
    "version": 3
   },
   "file_extension": ".py",
   "mimetype": "text/x-python",
   "name": "python",
   "nbconvert_exporter": "python",
   "pygments_lexer": "ipython3",
   "version": "3.7.9"
  },
  "toc": {
   "base_numbering": 1,
   "nav_menu": {},
   "number_sections": true,
   "sideBar": true,
   "skip_h1_title": false,
   "title_cell": "Table of Contents",
   "title_sidebar": "Contents",
   "toc_cell": false,
   "toc_position": {},
   "toc_section_display": true,
   "toc_window_display": false
  },
  "varInspector": {
   "cols": {
    "lenName": 16,
    "lenType": 16,
    "lenVar": 40
   },
   "kernels_config": {
    "python": {
     "delete_cmd_postfix": "",
     "delete_cmd_prefix": "del ",
     "library": "var_list.py",
     "varRefreshCmd": "print(var_dic_list())"
    },
    "r": {
     "delete_cmd_postfix": ") ",
     "delete_cmd_prefix": "rm(",
     "library": "var_list.r",
     "varRefreshCmd": "cat(var_dic_list()) "
    }
   },
   "types_to_exclude": [
    "module",
    "function",
    "builtin_function_or_method",
    "instance",
    "_Feature"
   ],
   "window_display": false
  }
 },
 "nbformat": 4,
 "nbformat_minor": 4
}
