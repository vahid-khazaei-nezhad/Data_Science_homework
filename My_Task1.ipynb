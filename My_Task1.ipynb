{
  "cells": [
    {
      "cell_type": "markdown",
      "metadata": {
        "id": "view-in-github",
        "colab_type": "text"
      },
      "source": [
        "<a href=\"https://colab.research.google.com/github/vahid-khazaei-nezhad/Data_Science_homework/blob/main/My_Task1.ipynb\" target=\"_parent\"><img src=\"https://colab.research.google.com/assets/colab-badge.svg\" alt=\"Open In Colab\"/></a>"
      ]
    },
    {
      "cell_type": "markdown",
      "id": "8520ce76",
      "metadata": {
        "heading_collapsed": true,
        "id": "8520ce76"
      },
      "source": [
        "# Installed libraires"
      ]
    },
    {
      "cell_type": "raw",
      "id": "244b1440",
      "metadata": {
        "hidden": true,
        "id": "244b1440"
      },
      "source": [
        "opencv-python, \n",
        "scipy, \n",
        "pandas, \n",
        "numpy, \n",
        "scilit-learn, \n",
        "tensorflow, \n",
        "keras, \n",
        "matplotlib, \n",
        "plot-keras-history, \n",
        "more-itertools installed."
      ]
    },
    {
      "cell_type": "code",
      "source": [
        "pip install plot_keras_history"
      ],
      "metadata": {
        "id": "-IizS_uZtMqX"
      },
      "id": "-IizS_uZtMqX",
      "execution_count": null,
      "outputs": []
    },
    {
      "cell_type": "code",
      "source": [
        "pip install keras.utils"
      ],
      "metadata": {
        "id": "QMtF0Kh8driX"
      },
      "id": "QMtF0Kh8driX",
      "execution_count": null,
      "outputs": []
    },
    {
      "cell_type": "code",
      "source": [
        "pip install keras_tuner"
      ],
      "metadata": {
        "id": "f3S0yBOZd0mL"
      },
      "id": "f3S0yBOZd0mL",
      "execution_count": null,
      "outputs": []
    },
    {
      "cell_type": "markdown",
      "id": "ba915f3f",
      "metadata": {
        "id": "ba915f3f"
      },
      "source": [
        "# Importing Libraries"
      ]
    },
    {
      "cell_type": "code",
      "execution_count": null,
      "id": "e5f1a18b",
      "metadata": {
        "colab": {
          "base_uri": "https://localhost:8080/"
        },
        "id": "e5f1a18b",
        "outputId": "b7668b70-858d-489a-88de-3830e47f5cf7"
      },
      "outputs": [
        {
          "output_type": "stream",
          "name": "stdout",
          "text": [
            "Libraries imported successfully\n"
          ]
        }
      ],
      "source": [
        "import numpy as np\n",
        "\n",
        "import cv2\n",
        "\n",
        "#from keras import regularizers\n",
        "from keras.models import Sequential\n",
        "#from keras.preprocessing import image\n",
        "from tensorflow import keras\n",
        "from tensorflow.keras.utils import to_categorical\n",
        "from keras.layers import BatchNormalization\n",
        "from keras.layers import Dense, Dropout, Flatten, Conv2D, MaxPooling2D\n",
        "from tensorflow.keras import optimizers\n",
        "from keras_tuner import HyperParameters, BayesianOptimization\n",
        "from keras import Input\n",
        "\n",
        "from sklearn.model_selection import train_test_split\n",
        "\n",
        "import matplotlib.pyplot as plt\n",
        "from plot_keras_history import show_history, plot_history\n",
        "\n",
        "print('Libraries imported successfully')"
      ]
    },
    {
      "cell_type": "markdown",
      "id": "0e03e4c4",
      "metadata": {
        "id": "0e03e4c4"
      },
      "source": [
        "# Loading dataset"
      ]
    },
    {
      "cell_type": "code",
      "source": [
        "from google.colab import drive\n",
        "drive.mount('/content/drive')"
      ],
      "metadata": {
        "colab": {
          "base_uri": "https://localhost:8080/"
        },
        "id": "wtgUi2VglEy5",
        "outputId": "ea164aaf-f00a-4b02-8779-03c4edb8b3ce"
      },
      "id": "wtgUi2VglEy5",
      "execution_count": null,
      "outputs": [
        {
          "output_type": "stream",
          "name": "stdout",
          "text": [
            "Mounted at /content/drive\n"
          ]
        }
      ]
    },
    {
      "cell_type": "code",
      "execution_count": null,
      "id": "4ff398ff",
      "metadata": {
        "id": "4ff398ff"
      },
      "outputs": [],
      "source": [
        "data = np.load('/content/drive/MyDrive/Colab Notebooks/mnist_2digits_10K.npy') \n",
        "\n",
        "labels = np.load('/content/drive/MyDrive/Colab Notebooks/mnist_2digits_10K_labels.npy')"
      ]
    },
    {
      "cell_type": "markdown",
      "id": "545125fe",
      "metadata": {
        "id": "545125fe"
      },
      "source": [
        "# Cheking the dataset shape, dtype"
      ]
    },
    {
      "cell_type": "code",
      "execution_count": null,
      "id": "659ee737",
      "metadata": {
        "colab": {
          "base_uri": "https://localhost:8080/"
        },
        "id": "659ee737",
        "outputId": "7d63eabd-620b-40b6-b24d-28f889dedbfd"
      },
      "outputs": [
        {
          "output_type": "execute_result",
          "data": {
            "text/plain": [
              "(10000, 32, 32)"
            ]
          },
          "metadata": {},
          "execution_count": 11
        }
      ],
      "source": [
        "data.shape"
      ]
    },
    {
      "cell_type": "code",
      "execution_count": null,
      "id": "fa6c78ca",
      "metadata": {
        "colab": {
          "base_uri": "https://localhost:8080/"
        },
        "id": "fa6c78ca",
        "outputId": "ecd4d7d8-0964-4db7-8c39-7e40e960cf1a"
      },
      "outputs": [
        {
          "output_type": "execute_result",
          "data": {
            "text/plain": [
              "dtype('float32')"
            ]
          },
          "metadata": {},
          "execution_count": 12
        }
      ],
      "source": [
        "data.dtype"
      ]
    },
    {
      "cell_type": "code",
      "execution_count": null,
      "id": "04deeec9",
      "metadata": {
        "colab": {
          "base_uri": "https://localhost:8080/"
        },
        "id": "04deeec9",
        "outputId": "63cdce02-62dc-4e63-f7b9-d6f76a689be3"
      },
      "outputs": [
        {
          "output_type": "execute_result",
          "data": {
            "text/plain": [
              "(1.0, 0.0)"
            ]
          },
          "metadata": {},
          "execution_count": 13
        }
      ],
      "source": [
        "np.max(data), np.min(data)"
      ]
    },
    {
      "cell_type": "markdown",
      "id": "e5629900",
      "metadata": {
        "id": "e5629900"
      },
      "source": [
        "# Visualizing a sample from dataset with its label"
      ]
    },
    {
      "cell_type": "raw",
      "id": "3d3d1dc6",
      "metadata": {
        "id": "3d3d1dc6"
      },
      "source": [
        "pic_sample = 2\n",
        "\n",
        "cv2.imshow(str(labels[pic_sample]), \n",
        "           cv2.resize(data[pic_sample],(data[pic_sample].shape[0]*10, data[pic_sample].shape[1]*10)))\n",
        "cv2.waitKey(0)  \n",
        "cv2.destroyAllWindows() "
      ]
    },
    {
      "cell_type": "markdown",
      "id": "6d23f19f",
      "metadata": {
        "id": "6d23f19f"
      },
      "source": [
        "# Doing Machine Learning (CNN)"
      ]
    },
    {
      "cell_type": "markdown",
      "id": "3c0d717c",
      "metadata": {
        "id": "3c0d717c"
      },
      "source": [
        "## Concatening labels(two columns) into one target column"
      ]
    },
    {
      "cell_type": "code",
      "execution_count": null,
      "id": "ead774d7",
      "metadata": {
        "run_control": {
          "marked": false
        },
        "scrolled": false,
        "id": "ead774d7"
      },
      "outputs": [],
      "source": [
        "target_map = dict()\n",
        "\n",
        "combined_labels = [sorted([l[0] ,l[1]]) for l in labels]\n",
        "\n",
        "combined_labels = [str(l[0]) + str(l[1]) for l in combined_labels]\n",
        "\n",
        "target_label = np.unique(combined_labels)\n",
        "\n",
        "for index, value in enumerate(target_label):\n",
        "    \n",
        "    target_map[value] = index\n",
        "    \n",
        "##\n",
        "\n",
        "combined_labels = [target_map[value] for value in combined_labels]\n",
        "\n",
        "target = list(target_map)"
      ]
    },
    {
      "cell_type": "markdown",
      "id": "773f271f",
      "metadata": {
        "id": "773f271f"
      },
      "source": [
        "## Splitting dataset into test & train with its labels"
      ]
    },
    {
      "cell_type": "code",
      "execution_count": null,
      "id": "9bb6a0d8",
      "metadata": {
        "colab": {
          "base_uri": "https://localhost:8080/"
        },
        "id": "9bb6a0d8",
        "outputId": "7bd91064-31d0-4a8b-db2f-6397dfe14bf3"
      },
      "outputs": [
        {
          "output_type": "stream",
          "name": "stdout",
          "text": [
            "Train:  (9000, 32, 32), labels: (9000, 45)\n",
            "Test:   (1000, 32, 32), labels: (1000, 45)\n"
          ]
        }
      ],
      "source": [
        "test_percent = 0.1\n",
        "\n",
        "number_of_classes = len(target)\n",
        "\n",
        "data_length = len(data)\n",
        "\n",
        "x_train = data[: -int(data_length * test_percent)]\n",
        "\n",
        "y_train = combined_labels[: -int(data_length * test_percent) :]\n",
        "\n",
        "x_test = data[-int(data_length * test_percent) :]\n",
        "\n",
        "y_test = combined_labels[-int(data_length * test_percent) :]\n",
        "\n",
        "y_train = to_categorical(y_train, num_classes= number_of_classes, dtype='float32')\n",
        "\n",
        "y_test = to_categorical(y_test, num_classes= number_of_classes, dtype='float32')\n",
        "\n",
        "print('Train: ', x_train.shape, end= ', labels: ')\n",
        "print(y_train.shape)\n",
        "print('Test:  ', x_test.shape, end= ', labels: ')\n",
        "print(y_test.shape)"
      ]
    },
    {
      "cell_type": "markdown",
      "id": "c89318ad",
      "metadata": {
        "id": "c89318ad"
      },
      "source": [
        "## Building CNN Model with keras tuner options"
      ]
    },
    {
      "cell_type": "code",
      "execution_count": null,
      "id": "a8232a91",
      "metadata": {
        "id": "a8232a91"
      },
      "outputs": [],
      "source": [
        "def build_model(hp):\n",
        "    \n",
        "    number_of_classes = len(target)\n",
        "    \n",
        "    model = Sequential()\n",
        "    \n",
        "    model.add(\n",
        "        Conv2D( \n",
        "               hp.Int(\"filters0\", min_value= 32, max_value= 128, step= 8),\n",
        "               (3, 3),\n",
        "               input_shape= (32, 32, 1),\n",
        "               activation= 'relu', \n",
        "               padding= hp.Choice('Padding0', ['same', 'valid'])\n",
        "              )\n",
        "    )\n",
        "    \n",
        "    model.add(MaxPooling2D(pool_size= (2, 2)))\n",
        "    \n",
        "    if hp.Boolean(\"batchNormalization\"):\n",
        "\n",
        "      model.add(BatchNormalization())\n",
        "        \n",
        "    for i in range(hp.Int(\"cnn_layers\", min_value= 1, max_value= 2)):\n",
        "                   \n",
        "        model.add(\n",
        "            Conv2D(\n",
        "                    hp.Int(f\"filters1_{i}\", min_value= 32, max_value= 128, step= 8),\n",
        "                    (3, 3),\n",
        "                    activation= 'relu',\n",
        "                    padding= hp.Choice('Padding1', ['same', 'valid'])\n",
        "                 )\n",
        "        )\n",
        "        \n",
        "        model.add(MaxPooling2D(pool_size= (2, 2)))\n",
        "        \n",
        "        if hp.Boolean(f\"batchNormalization_{i}\"):\n",
        "            \n",
        "            model.add(BatchNormalization())\n",
        "        \n",
        "        ###\n",
        "    model.add(Flatten())\n",
        "    \n",
        "    num_of_layers = hp.Int('num_layers', min_value= 2, max_value= 5)\n",
        "    \n",
        "    for i in range(num_of_layers):\n",
        "        \n",
        "        model.add(\n",
        "            \n",
        "            Dense(\n",
        "                \n",
        "                units= hp.Int(f\"units_{i}\", min_value= 1024, max_value= 4096, step= 1024),\n",
        "                \n",
        "                activation= hp.Choice(f'activation2_{i}', ['relu', 'tanh', 'sigmoid']),\n",
        "            )\n",
        "        )\n",
        "        \n",
        "        drop_rate = hp.Float(f'dropout_value_{i}', min_value = 0.2, max_value= 0.5, sampling= \"log\")\n",
        "    \n",
        "        if hp.Boolean(f\"dropout_{i}\"):\n",
        "                   \n",
        "            model.add(Dropout(rate= drop_rate))\n",
        "                   \n",
        "    model.add(Dense(number_of_classes, activation= \"softmax\"))\n",
        "                   \n",
        "    learning_rate = hp.Float(\"lr\", min_value=1e-3, max_value=1e-2, sampling= \"log\")\n",
        "    \n",
        "    momentum = hp.Float(\"momentum\", min_value= 0.7, max_value= 0.9, sampling= \"log\")\n",
        "                   \n",
        "    nesterov = hp.Boolean(\"nesterov\")\n",
        "    \n",
        "    model.compile(\n",
        "        \n",
        "        optimizer=  optimizers.SGD(learning_rate= learning_rate, momentum= momentum, nesterov= nesterov),\n",
        "        \n",
        "        loss= \"categorical_crossentropy\",\n",
        "        \n",
        "        metrics= [\"accuracy\"],\n",
        "    )\n",
        "    \n",
        "    print('# paramters: ', model.count_params())\n",
        "    \n",
        "    return model"
      ]
    },
    {
      "cell_type": "markdown",
      "id": "61f8c4e1",
      "metadata": {
        "id": "61f8c4e1"
      },
      "source": [
        "## Tuning model"
      ]
    },
    {
      "cell_type": "code",
      "execution_count": null,
      "id": "6a7c5775",
      "metadata": {
        "scrolled": false,
        "colab": {
          "base_uri": "https://localhost:8080/"
        },
        "id": "6a7c5775",
        "outputId": "e020885d-1139-4631-d241-3d069782cfca"
      },
      "outputs": [
        {
          "metadata": {
            "tags": null
          },
          "name": "stdout",
          "output_type": "stream",
          "text": [
            "Number of paramters:  3203469\n",
            "\n",
            "Search: Running Trial #1\n",
            "\n",
            "Value             |Best Value So Far |Hyperparameter\n",
            "120               |?                 |filters0\n",
            "valid             |?                 |Padding0\n",
            "False             |?                 |batchNormalization\n",
            "2                 |?                 |cnn_layers\n",
            "96                |?                 |filters1_0\n",
            "same              |?                 |Padding1\n",
            "True              |?                 |batchNormalization_0\n",
            "4                 |?                 |num_layers\n",
            "1024              |?                 |units_0\n",
            "relu              |?                 |activation2_0\n",
            "0.33728           |?                 |dropout_value_0\n",
            "False             |?                 |dropout_0\n",
            "3072              |?                 |units_1\n",
            "tanh              |?                 |activation2_1\n",
            "0.37362           |?                 |dropout_value_1\n",
            "False             |?                 |dropout_1\n",
            "0.0016213         |?                 |lr\n",
            "0.78551           |?                 |momentum\n",
            "False             |?                 |nesterov\n",
            "\n",
            "Number of paramters:  7820253\n",
            "Epoch 1/70\n",
            "225/225 - 52s - loss: 3.7005 - accuracy: 0.0632 - val_loss: 3.7191 - val_accuracy: 0.1139 - 52s/epoch - 231ms/step\n",
            "Epoch 2/70\n",
            "225/225 - 50s - loss: 3.1432 - accuracy: 0.1625 - val_loss: 3.0715 - val_accuracy: 0.2133 - 50s/epoch - 221ms/step\n",
            "Epoch 3/70\n",
            "225/225 - 50s - loss: 2.6081 - accuracy: 0.2576 - val_loss: 2.5348 - val_accuracy: 0.2806 - 50s/epoch - 221ms/step\n",
            "Epoch 4/70\n",
            "225/225 - 50s - loss: 2.2215 - accuracy: 0.3556 - val_loss: 2.2252 - val_accuracy: 0.3561 - 50s/epoch - 222ms/step\n",
            "Epoch 5/70\n",
            "225/225 - 52s - loss: 1.8988 - accuracy: 0.4457 - val_loss: 2.1492 - val_accuracy: 0.3789 - 52s/epoch - 229ms/step\n",
            "Epoch 6/70\n",
            "225/225 - 50s - loss: 1.6237 - accuracy: 0.5100 - val_loss: 1.7867 - val_accuracy: 0.4506 - 50s/epoch - 222ms/step\n",
            "Epoch 7/70\n",
            "225/225 - 50s - loss: 1.4078 - accuracy: 0.5650 - val_loss: 1.8583 - val_accuracy: 0.4500 - 50s/epoch - 221ms/step\n",
            "Epoch 8/70\n",
            "225/225 - 50s - loss: 1.2335 - accuracy: 0.6214 - val_loss: 1.5537 - val_accuracy: 0.5294 - 50s/epoch - 221ms/step\n",
            "Epoch 9/70\n",
            "225/225 - 50s - loss: 1.0821 - accuracy: 0.6693 - val_loss: 1.7089 - val_accuracy: 0.4861 - 50s/epoch - 220ms/step\n",
            "Epoch 10/70\n",
            "225/225 - 50s - loss: 0.9464 - accuracy: 0.7047 - val_loss: 1.6183 - val_accuracy: 0.5133 - 50s/epoch - 221ms/step\n",
            "Epoch 11/70\n",
            "225/225 - 50s - loss: 0.8089 - accuracy: 0.7546 - val_loss: 1.3720 - val_accuracy: 0.5689 - 50s/epoch - 222ms/step\n",
            "Epoch 12/70\n",
            "225/225 - 51s - loss: 0.7067 - accuracy: 0.7828 - val_loss: 1.4440 - val_accuracy: 0.5594 - 51s/epoch - 227ms/step\n",
            "Epoch 13/70\n",
            "225/225 - 50s - loss: 0.6292 - accuracy: 0.8031 - val_loss: 1.5405 - val_accuracy: 0.5467 - 50s/epoch - 221ms/step\n",
            "Epoch 14/70\n",
            "225/225 - 50s - loss: 0.5254 - accuracy: 0.8417 - val_loss: 1.6994 - val_accuracy: 0.5417 - 50s/epoch - 220ms/step\n",
            "Epoch 15/70\n",
            "225/225 - 49s - loss: 0.4537 - accuracy: 0.8625 - val_loss: 1.5088 - val_accuracy: 0.5744 - 49s/epoch - 220ms/step\n",
            "Epoch 16/70\n",
            "225/225 - 49s - loss: 0.3775 - accuracy: 0.8893 - val_loss: 1.4722 - val_accuracy: 0.5794 - 49s/epoch - 219ms/step\n",
            "Epoch 17/70\n",
            "225/225 - 49s - loss: 0.3111 - accuracy: 0.9175 - val_loss: 1.5061 - val_accuracy: 0.5767 - 49s/epoch - 220ms/step\n",
            "Epoch 18/70\n",
            "225/225 - 50s - loss: 0.2632 - accuracy: 0.9346 - val_loss: 1.3659 - val_accuracy: 0.6156 - 50s/epoch - 220ms/step\n",
            "Epoch 19/70\n",
            "225/225 - 50s - loss: 0.1960 - accuracy: 0.9610 - val_loss: 1.4369 - val_accuracy: 0.5989 - 50s/epoch - 224ms/step\n",
            "Epoch 20/70\n",
            "225/225 - 49s - loss: 0.1622 - accuracy: 0.9701 - val_loss: 1.4599 - val_accuracy: 0.6161 - 49s/epoch - 220ms/step\n",
            "Epoch 21/70\n",
            "225/225 - 49s - loss: 0.1281 - accuracy: 0.9804 - val_loss: 1.6699 - val_accuracy: 0.5667 - 49s/epoch - 219ms/step\n",
            "Epoch 22/70\n",
            "225/225 - 49s - loss: 0.1008 - accuracy: 0.9860 - val_loss: 1.4078 - val_accuracy: 0.6383 - 49s/epoch - 219ms/step\n",
            "Epoch 23/70\n",
            "225/225 - 49s - loss: 0.0753 - accuracy: 0.9947 - val_loss: 1.4325 - val_accuracy: 0.6350 - 49s/epoch - 219ms/step\n",
            "Epoch 24/70\n",
            "225/225 - 50s - loss: 0.0593 - accuracy: 0.9965 - val_loss: 1.4412 - val_accuracy: 0.6389 - 50s/epoch - 220ms/step\n",
            "Epoch 25/70\n",
            "225/225 - 51s - loss: 0.0496 - accuracy: 0.9990 - val_loss: 1.5145 - val_accuracy: 0.6372 - 51s/epoch - 226ms/step\n",
            "Epoch 26/70\n",
            "225/225 - 50s - loss: 0.0396 - accuracy: 0.9992 - val_loss: 1.5411 - val_accuracy: 0.6317 - 50s/epoch - 221ms/step\n",
            "Epoch 27/70\n",
            "225/225 - 50s - loss: 0.0338 - accuracy: 1.0000 - val_loss: 1.4840 - val_accuracy: 0.6394 - 50s/epoch - 220ms/step\n",
            "Epoch 28/70\n",
            "225/225 - 49s - loss: 0.0289 - accuracy: 0.9999 - val_loss: 1.5071 - val_accuracy: 0.6394 - 49s/epoch - 220ms/step\n",
            "Epoch 29/70\n",
            "225/225 - 50s - loss: 0.0269 - accuracy: 0.9994 - val_loss: 1.5992 - val_accuracy: 0.6283 - 50s/epoch - 220ms/step\n",
            "Epoch 30/70\n",
            "225/225 - 49s - loss: 0.0230 - accuracy: 1.0000 - val_loss: 1.5467 - val_accuracy: 0.6361 - 49s/epoch - 219ms/step\n",
            "Epoch 31/70\n",
            "225/225 - 51s - loss: 0.0199 - accuracy: 0.9999 - val_loss: 1.5521 - val_accuracy: 0.6456 - 51s/epoch - 225ms/step\n",
            "Epoch 32/70\n",
            "225/225 - 49s - loss: 0.0184 - accuracy: 1.0000 - val_loss: 1.5499 - val_accuracy: 0.6411 - 49s/epoch - 219ms/step\n",
            "Epoch 33/70\n",
            "225/225 - 49s - loss: 0.0169 - accuracy: 0.9999 - val_loss: 1.5888 - val_accuracy: 0.6433 - 49s/epoch - 219ms/step\n",
            "Epoch 34/70\n",
            "225/225 - 49s - loss: 0.0149 - accuracy: 1.0000 - val_loss: 1.5866 - val_accuracy: 0.6500 - 49s/epoch - 219ms/step\n",
            "Epoch 35/70\n",
            "225/225 - 49s - loss: 0.0144 - accuracy: 0.9999 - val_loss: 1.6034 - val_accuracy: 0.6439 - 49s/epoch - 219ms/step\n",
            "Epoch 36/70\n",
            "225/225 - 49s - loss: 0.0142 - accuracy: 1.0000 - val_loss: 1.6199 - val_accuracy: 0.6483 - 49s/epoch - 219ms/step\n",
            "Epoch 37/70\n",
            "225/225 - 49s - loss: 0.0132 - accuracy: 1.0000 - val_loss: 1.6057 - val_accuracy: 0.6456 - 49s/epoch - 219ms/step\n",
            "Epoch 38/70\n",
            "225/225 - 51s - loss: 0.0119 - accuracy: 1.0000 - val_loss: 1.6141 - val_accuracy: 0.6428 - 51s/epoch - 225ms/step\n",
            "Epoch 39/70\n",
            "225/225 - 49s - loss: 0.0106 - accuracy: 1.0000 - val_loss: 1.6445 - val_accuracy: 0.6472 - 49s/epoch - 220ms/step\n",
            "Epoch 40/70\n",
            "225/225 - 50s - loss: 0.0101 - accuracy: 1.0000 - val_loss: 1.6723 - val_accuracy: 0.6439 - 50s/epoch - 220ms/step\n",
            "Epoch 41/70\n",
            "225/225 - 49s - loss: 0.0099 - accuracy: 1.0000 - val_loss: 1.6690 - val_accuracy: 0.6444 - 49s/epoch - 220ms/step\n",
            "Epoch 42/70\n",
            "225/225 - 49s - loss: 0.0087 - accuracy: 1.0000 - val_loss: 1.6599 - val_accuracy: 0.6478 - 49s/epoch - 220ms/step\n",
            "Epoch 43/70\n",
            "225/225 - 50s - loss: 0.0088 - accuracy: 1.0000 - val_loss: 1.6984 - val_accuracy: 0.6444 - 50s/epoch - 221ms/step\n",
            "Epoch 44/70\n",
            "225/225 - 51s - loss: 0.0085 - accuracy: 1.0000 - val_loss: 1.6659 - val_accuracy: 0.6494 - 51s/epoch - 225ms/step\n",
            "Epoch 45/70\n",
            "225/225 - 49s - loss: 0.0075 - accuracy: 1.0000 - val_loss: 1.6750 - val_accuracy: 0.6489 - 49s/epoch - 220ms/step\n",
            "Epoch 46/70\n",
            "225/225 - 49s - loss: 0.0076 - accuracy: 1.0000 - val_loss: 1.6853 - val_accuracy: 0.6511 - 49s/epoch - 219ms/step\n",
            "Epoch 47/70\n",
            "225/225 - 50s - loss: 0.0071 - accuracy: 1.0000 - val_loss: 1.6950 - val_accuracy: 0.6517 - 50s/epoch - 220ms/step\n",
            "Epoch 48/70\n",
            "225/225 - 49s - loss: 0.0073 - accuracy: 1.0000 - val_loss: 1.7127 - val_accuracy: 0.6472 - 49s/epoch - 220ms/step\n",
            "Epoch 49/70\n"
          ]
        }
      ],
      "source": [
        "tuner = BayesianOptimization(\n",
        "                            build_model,\n",
        "                            'val_loss',\n",
        "                            20,\n",
        "                            num_initial_points= 2,\n",
        "                            alpha= 0.0001,\n",
        "                            beta= 2.6,\n",
        "                            seed= 23,\n",
        "                            hyperparameters= HyperParameters(),\n",
        "                            overwrite= True,\n",
        "                            #directory=\"\\Tunning\",\n",
        "                            project_name=\"InaitTask\",\n",
        "                            )\n",
        "###\n",
        "\n",
        "#tuner.search_space_summary()\n",
        "\n",
        "tuner.search(x_train, y_train, epochs= 30, validation_split= 0.2, verbose= 2)"
      ]
    },
    {
      "cell_type": "markdown",
      "id": "8450a43f",
      "metadata": {
        "id": "8450a43f"
      },
      "source": [
        "## Choose best two top models"
      ]
    },
    {
      "cell_type": "code",
      "execution_count": null,
      "id": "6f92deac",
      "metadata": {
        "id": "6f92deac"
      },
      "outputs": [],
      "source": [
        "models = tuner.get_best_models()[0]\n",
        "\n",
        "model.build(input_shape= (32, 32, 1))\n",
        "\n",
        "best_model.summary()"
      ]
    },
    {
      "cell_type": "markdown",
      "id": "76dd2d5b",
      "metadata": {
        "id": "76dd2d5b"
      },
      "source": [
        "## Get results"
      ]
    },
    {
      "cell_type": "code",
      "execution_count": null,
      "id": "c1943cdd",
      "metadata": {
        "id": "c1943cdd"
      },
      "outputs": [],
      "source": [
        "tuner.results_summary()"
      ]
    },
    {
      "cell_type": "markdown",
      "id": "9f643ec1",
      "metadata": {
        "id": "9f643ec1"
      },
      "source": [
        "# Plotting models performances"
      ]
    },
    {
      "cell_type": "code",
      "execution_count": null,
      "id": "a5cf413d",
      "metadata": {
        "run_control": {
          "marked": false
        },
        "id": "a5cf413d"
      },
      "outputs": [],
      "source": [
        "import datetime\n",
        "\n",
        "ct = datetime.datetime.now()\n",
        "\n",
        "show_history(history)\n",
        "\n",
        "plot_history(history, path= f'{int(ct.timestamp())}.png')\n",
        "\n",
        "plt.close()"
      ]
    }
  ],
  "metadata": {
    "kernelspec": {
      "display_name": "Python 3 (ipykernel)",
      "language": "python",
      "name": "python3"
    },
    "language_info": {
      "codemirror_mode": {
        "name": "ipython",
        "version": 3
      },
      "file_extension": ".py",
      "mimetype": "text/x-python",
      "name": "python",
      "nbconvert_exporter": "python",
      "pygments_lexer": "ipython3",
      "version": "3.7.13"
    },
    "toc": {
      "base_numbering": 1,
      "nav_menu": {},
      "number_sections": true,
      "sideBar": true,
      "skip_h1_title": false,
      "title_cell": "Table of Contents",
      "title_sidebar": "Contents",
      "toc_cell": false,
      "toc_position": {},
      "toc_section_display": true,
      "toc_window_display": false
    },
    "varInspector": {
      "cols": {
        "lenName": 16,
        "lenType": 16,
        "lenVar": 40
      },
      "kernels_config": {
        "python": {
          "delete_cmd_postfix": "",
          "delete_cmd_prefix": "del ",
          "library": "var_list.py",
          "varRefreshCmd": "print(var_dic_list())"
        },
        "r": {
          "delete_cmd_postfix": ") ",
          "delete_cmd_prefix": "rm(",
          "library": "var_list.r",
          "varRefreshCmd": "cat(var_dic_list()) "
        }
      },
      "types_to_exclude": [
        "module",
        "function",
        "builtin_function_or_method",
        "instance",
        "_Feature"
      ],
      "window_display": false
    },
    "colab": {
      "name": "My_Task1.ipynb",
      "provenance": [],
      "collapsed_sections": [
        "0e03e4c4",
        "545125fe",
        "e5629900",
        "3c0d717c",
        "773f271f",
        "c89318ad"
      ],
      "include_colab_link": true
    },
    "accelerator": "GPU"
  },
  "nbformat": 4,
  "nbformat_minor": 5
}