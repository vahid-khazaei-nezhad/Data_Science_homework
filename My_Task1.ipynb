{
  "cells": [
    {
      "cell_type": "markdown",
      "metadata": {
        "id": "view-in-github",
        "colab_type": "text"
      },
      "source": [
        "<a href=\"https://colab.research.google.com/github/vahid-khazaei-nezhad/Data_Science_homework/blob/main/My_Task1.ipynb\" target=\"_parent\"><img src=\"https://colab.research.google.com/assets/colab-badge.svg\" alt=\"Open In Colab\"/></a>"
      ]
    },
    {
      "cell_type": "markdown",
      "id": "8520ce76",
      "metadata": {
        "heading_collapsed": true,
        "id": "8520ce76"
      },
      "source": [
        "# Installed libraires"
      ]
    },
    {
      "cell_type": "raw",
      "id": "244b1440",
      "metadata": {
        "hidden": true,
        "id": "244b1440"
      },
      "source": [
        "opencv-python, \n",
        "scipy, \n",
        "pandas, \n",
        "numpy, \n",
        "scilit-learn, \n",
        "tensorflow, \n",
        "keras, \n",
        "matplotlib, \n",
        "plot-keras-history, \n",
        "more-itertools installed."
      ]
    },
    {
      "cell_type": "raw",
      "id": "347f793f",
      "metadata": {
        "hidden": true,
        "id": "347f793f"
      },
      "source": [
        "pip install plot_keras_history;\n",
        "pip install keras.utils;\n",
        "pip install keras_tuner;\n",
        "pip install graphviz;\n",
        "pip install pydot;"
      ]
    },
    {
      "cell_type": "code",
      "source": [
        "pip install plot_keras_history;\n",
        "pip install keras.utils;\n",
        "pip install keras_tuner;\n",
        "pip install graphviz;\n",
        "pip install pydot;"
      ],
      "metadata": {
        "id": "AFoHG37f2kLV"
      },
      "id": "AFoHG37f2kLV",
      "execution_count": null,
      "outputs": []
    },
    {
      "cell_type": "markdown",
      "id": "ba915f3f",
      "metadata": {
        "heading_collapsed": true,
        "id": "ba915f3f"
      },
      "source": [
        "# Importing Libraries"
      ]
    },
    {
      "cell_type": "code",
      "execution_count": null,
      "id": "e5f1a18b",
      "metadata": {
        "colab": {
          "base_uri": "https://localhost:8080/"
        },
        "hidden": true,
        "id": "e5f1a18b",
        "outputId": "b7668b70-858d-489a-88de-3830e47f5cf7"
      },
      "outputs": [
        {
          "name": "stdout",
          "output_type": "stream",
          "text": [
            "Libraries imported successfully\n"
          ]
        }
      ],
      "source": [
        "import numpy as np\n",
        "\n",
        "import cv2\n",
        "\n",
        "#from keras import regularizers\n",
        "from keras.models import Sequential\n",
        "#from keras.preprocessing import image\n",
        "from tensorflow import keras\n",
        "from tensorflow.keras.utils import to_categorical\n",
        "from keras.layers import BatchNormalization\n",
        "from keras.layers import Dense, Dropout, Flatten, Conv2D, MaxPooling2D\n",
        "from tensorflow.keras import optimizers\n",
        "from keras_tuner import HyperParameters, BayesianOptimization\n",
        "from keras import Input\n",
        "\n",
        "from sklearn.model_selection import train_test_split\n",
        "\n",
        "import matplotlib.pyplot as plt\n",
        "from plot_keras_history import show_history, plot_history\n",
        "\n",
        "print('Libraries imported successfully')"
      ]
    },
    {
      "cell_type": "markdown",
      "id": "0e03e4c4",
      "metadata": {
        "heading_collapsed": true,
        "id": "0e03e4c4"
      },
      "source": [
        "# Loading dataset"
      ]
    },
    {
      "cell_type": "raw",
      "id": "f8e1d28f",
      "metadata": {
        "hidden": true,
        "id": "f8e1d28f",
        "outputId": "ea164aaf-f00a-4b02-8779-03c4edb8b3ce"
      },
      "source": [
        "from google.colab import drive\n",
        "drive.mount('/content/drive')r"
      ]
    },
    {
      "cell_type": "raw",
      "id": "005f7a26",
      "metadata": {
        "hidden": true,
        "id": "005f7a26"
      },
      "source": [
        "data = np.load('/content/drive/MyDrive/Colab Notebooks/mnist_2digits_10K.npy') \n",
        "\n",
        "labels = np.load('/content/drive/MyDrive/Colab Notebooks/mnist_2digits_10K_labels.npy')"
      ]
    },
    {
      "cell_type": "code",
      "execution_count": null,
      "id": "5050c75f",
      "metadata": {
        "hidden": true,
        "id": "5050c75f"
      },
      "outputs": [],
      "source": [
        "data = np.load('mnist_2digits_10K.npy') \n",
        "\n",
        "labels = np.load('mnist_2digits_10K_labels.npy')"
      ]
    },
    {
      "cell_type": "markdown",
      "id": "545125fe",
      "metadata": {
        "heading_collapsed": true,
        "id": "545125fe"
      },
      "source": [
        "# Cheking the dataset shape, dtype"
      ]
    },
    {
      "cell_type": "code",
      "execution_count": null,
      "id": "659ee737",
      "metadata": {
        "colab": {
          "base_uri": "https://localhost:8080/"
        },
        "hidden": true,
        "id": "659ee737",
        "outputId": "7d63eabd-620b-40b6-b24d-28f889dedbfd"
      },
      "outputs": [
        {
          "data": {
            "text/plain": [
              "(10000, 32, 32)"
            ]
          },
          "execution_count": 3,
          "metadata": {},
          "output_type": "execute_result"
        }
      ],
      "source": [
        "data.shape"
      ]
    },
    {
      "cell_type": "code",
      "execution_count": null,
      "id": "fa6c78ca",
      "metadata": {
        "colab": {
          "base_uri": "https://localhost:8080/"
        },
        "hidden": true,
        "id": "fa6c78ca",
        "outputId": "ecd4d7d8-0964-4db7-8c39-7e40e960cf1a"
      },
      "outputs": [
        {
          "data": {
            "text/plain": [
              "dtype('float32')"
            ]
          },
          "execution_count": 4,
          "metadata": {},
          "output_type": "execute_result"
        }
      ],
      "source": [
        "data.dtype"
      ]
    },
    {
      "cell_type": "code",
      "execution_count": null,
      "id": "04deeec9",
      "metadata": {
        "colab": {
          "base_uri": "https://localhost:8080/"
        },
        "hidden": true,
        "id": "04deeec9",
        "outputId": "63cdce02-62dc-4e63-f7b9-d6f76a689be3"
      },
      "outputs": [
        {
          "data": {
            "text/plain": [
              "(1.0, 0.0)"
            ]
          },
          "execution_count": 5,
          "metadata": {},
          "output_type": "execute_result"
        }
      ],
      "source": [
        "np.max(data), np.min(data)"
      ]
    },
    {
      "cell_type": "markdown",
      "id": "e5629900",
      "metadata": {
        "heading_collapsed": true,
        "id": "e5629900"
      },
      "source": [
        "# Visualizing a sample from dataset with its label"
      ]
    },
    {
      "cell_type": "raw",
      "id": "3d3d1dc6",
      "metadata": {
        "hidden": true,
        "id": "3d3d1dc6"
      },
      "source": [
        "pic_sample = 2\n",
        "\n",
        "cv2.imshow(str(labels[pic_sample]), \n",
        "           cv2.resize(data[pic_sample],(data[pic_sample].shape[0]*10, data[pic_sample].shape[1]*10)))\n",
        "cv2.waitKey(0)  \n",
        "cv2.destroyAllWindows() "
      ]
    },
    {
      "cell_type": "markdown",
      "id": "6d23f19f",
      "metadata": {
        "id": "6d23f19f"
      },
      "source": [
        "# Doing Machine Learning (CNN)"
      ]
    },
    {
      "cell_type": "markdown",
      "id": "3c0d717c",
      "metadata": {
        "heading_collapsed": true,
        "id": "3c0d717c"
      },
      "source": [
        "## Concatening labels(two columns) into one target column"
      ]
    },
    {
      "cell_type": "code",
      "execution_count": null,
      "id": "ead774d7",
      "metadata": {
        "hidden": true,
        "id": "ead774d7",
        "run_control": {
          "marked": false
        },
        "scrolled": false
      },
      "outputs": [],
      "source": [
        "target_map = dict()\n",
        "\n",
        "combined_labels = [sorted([l[0] ,l[1]]) for l in labels]\n",
        "\n",
        "combined_labels = [str(l[0]) + str(l[1]) for l in combined_labels]\n",
        "\n",
        "target_label = np.unique(combined_labels)\n",
        "\n",
        "for index, value in enumerate(target_label):\n",
        "    \n",
        "    target_map[value] = index\n",
        "    \n",
        "##\n",
        "\n",
        "combined_labels = [target_map[value] for value in combined_labels]\n",
        "\n",
        "target = list(target_map)"
      ]
    },
    {
      "cell_type": "markdown",
      "id": "773f271f",
      "metadata": {
        "heading_collapsed": true,
        "id": "773f271f"
      },
      "source": [
        "## Splitting dataset into test & train with its labels"
      ]
    },
    {
      "cell_type": "code",
      "execution_count": null,
      "id": "9bb6a0d8",
      "metadata": {
        "colab": {
          "base_uri": "https://localhost:8080/"
        },
        "hidden": true,
        "id": "9bb6a0d8",
        "outputId": "7bd91064-31d0-4a8b-db2f-6397dfe14bf3"
      },
      "outputs": [
        {
          "name": "stdout",
          "output_type": "stream",
          "text": [
            "Train:  (9000, 32, 32), labels: (9000, 45)\n",
            "Test:   (1000, 32, 32), labels: (1000, 45)\n"
          ]
        }
      ],
      "source": [
        "test_percent = 0.1\n",
        "\n",
        "number_of_classes = len(target)\n",
        "\n",
        "data_length = len(data)\n",
        "\n",
        "x_train = data[: -int(data_length * test_percent)]\n",
        "\n",
        "y_train = combined_labels[: -int(data_length * test_percent) :]\n",
        "\n",
        "x_test = data[-int(data_length * test_percent) :]\n",
        "\n",
        "y_test = combined_labels[-int(data_length * test_percent) :]\n",
        "\n",
        "y_train = to_categorical(y_train, num_classes= number_of_classes, dtype='float32')\n",
        "\n",
        "y_test = to_categorical(y_test, num_classes= number_of_classes, dtype='float32')\n",
        "\n",
        "print('Train: ', x_train.shape, end= ', labels: ')\n",
        "print(y_train.shape)\n",
        "print('Test:  ', x_test.shape, end= ', labels: ')\n",
        "print(y_test.shape)"
      ]
    },
    {
      "cell_type": "markdown",
      "id": "c89318ad",
      "metadata": {
        "heading_collapsed": true,
        "id": "c89318ad"
      },
      "source": [
        "## Building CNN Model with keras tuner options"
      ]
    },
    {
      "cell_type": "code",
      "execution_count": null,
      "id": "a8232a91",
      "metadata": {
        "hidden": true,
        "id": "a8232a91"
      },
      "outputs": [],
      "source": [
        "def build_model(hp):\n",
        "    \n",
        "    number_of_classes = len(target)\n",
        "    \n",
        "    model = Sequential()\n",
        "    \n",
        "    model.add(\n",
        "        Conv2D( \n",
        "               hp.Int(\"filters0\", min_value= 32, max_value= 128, step= 8),\n",
        "               (3, 3),\n",
        "               input_shape= (32, 32, 1),\n",
        "               activation= 'relu', \n",
        "               padding= hp.Choice('Padding0', ['same', 'valid'])\n",
        "              )\n",
        "    )\n",
        "    \n",
        "    model.add(MaxPooling2D(pool_size= (2, 2)))\n",
        "    \n",
        "    if hp.Boolean(\"batchNormalization\"):\n",
        "\n",
        "      model.add(BatchNormalization())\n",
        "        \n",
        "    for i in range(hp.Int(\"cnn_layers\", min_value= 1, max_value= 2)):\n",
        "                   \n",
        "        model.add(\n",
        "            Conv2D(\n",
        "                    hp.Int(f\"filters1_{i}\", min_value= 32, max_value= 128, step= 8),\n",
        "                    (3, 3),\n",
        "                    activation= 'relu',\n",
        "                    padding= hp.Choice('Padding1', ['same', 'valid'])\n",
        "                 )\n",
        "        )\n",
        "        \n",
        "        model.add(MaxPooling2D(pool_size= (2, 2)))\n",
        "        \n",
        "        if hp.Boolean(f\"batchNormalization_{i}\"):\n",
        "            \n",
        "            model.add(BatchNormalization())\n",
        "        \n",
        "        ###\n",
        "    model.add(Flatten())\n",
        "    \n",
        "    num_of_layers = hp.Int('num_layers', min_value= 2, max_value= 5)\n",
        "    \n",
        "    for i in range(num_of_layers):\n",
        "        \n",
        "        model.add(\n",
        "            \n",
        "            Dense(\n",
        "                \n",
        "                units= hp.Int(f\"units_{i}\", min_value= 1024, max_value= 4096, step= 1024),\n",
        "                \n",
        "                activation= hp.Choice(f'activation2_{i}', ['relu', 'tanh', 'sigmoid']),\n",
        "            )\n",
        "        )\n",
        "        \n",
        "        drop_rate = hp.Float(f'dropout_value_{i}', min_value = 0.2, max_value= 0.5, sampling= \"log\")\n",
        "    \n",
        "        if hp.Boolean(f\"dropout_{i}\"):\n",
        "                   \n",
        "            model.add(Dropout(rate= drop_rate))\n",
        "                   \n",
        "    model.add(Dense(number_of_classes, activation= \"softmax\"))\n",
        "                   \n",
        "    learning_rate = hp.Float(\"lr\", min_value=1e-3, max_value=1e-2, sampling= \"log\")\n",
        "    \n",
        "    momentum = hp.Float(\"momentum\", min_value= 0.7, max_value= 0.9, sampling= \"log\")\n",
        "                   \n",
        "    nesterov = hp.Boolean(\"nesterov\")\n",
        "    \n",
        "    model.compile(\n",
        "        \n",
        "        optimizer=  optimizers.SGD(learning_rate= learning_rate, momentum= momentum, nesterov= nesterov),\n",
        "        \n",
        "        loss= \"categorical_crossentropy\",\n",
        "        \n",
        "        metrics= [\"accuracy\"],\n",
        "    )\n",
        "    \n",
        "    print('# paramters: ', model.count_params())\n",
        "    \n",
        "    return model"
      ]
    },
    {
      "cell_type": "markdown",
      "id": "61f8c4e1",
      "metadata": {
        "id": "61f8c4e1"
      },
      "source": [
        "## Tuning model"
      ]
    },
    {
      "cell_type": "code",
      "execution_count": null,
      "id": "6a7c5775",
      "metadata": {
        "colab": {
          "base_uri": "https://localhost:8080/"
        },
        "id": "6a7c5775",
        "outputId": "e020885d-1139-4631-d241-3d069782cfca",
        "scrolled": false
      },
      "outputs": [
        {
          "name": "stdout",
          "output_type": "stream",
          "text": [
            "Trial 1 Complete [00h 06m 21s]\n",
            "val_loss: 2.1462581157684326\n",
            "\n",
            "Best val_loss So Far: 2.1462581157684326\n",
            "Total elapsed time: 00h 06m 21s\n",
            "INFO:tensorflow:Oracle triggered exit\n"
          ]
        }
      ],
      "source": [
        "tuner = BayesianOptimization(\n",
        "                            build_model,\n",
        "                            'val_loss',\n",
        "                            1,\n",
        "                            num_initial_points= 2,\n",
        "                            alpha= 0.0001,\n",
        "                            beta= 2.6,\n",
        "                            seed= 23,\n",
        "                            hyperparameters= HyperParameters(),\n",
        "                            overwrite= True,\n",
        "                            directory=\"\\Tunning\",\n",
        "                            project_name=\"InaitTask\",\n",
        "                            )\n",
        "###\n",
        "\n",
        "#tuner.search_space_summary()\n",
        "\n",
        "tuner.search(x_train, y_train, epochs= 5, validation_split= 0.2, verbose= 2)"
      ]
    },
    {
      "cell_type": "code",
      "execution_count": null,
      "id": "c1943cdd",
      "metadata": {
        "id": "c1943cdd",
        "outputId": "9cd0d33b-a34d-4920-bf32-b4caf99878a5"
      },
      "outputs": [
        {
          "name": "stdout",
          "output_type": "stream",
          "text": [
            "Results summary\n",
            "Results in \\Tunning\\InaitTask\n",
            "Showing 10 best trials\n",
            "<keras_tuner.engine.objective.Objective object at 0x000001BD08DE5FC8>\n",
            "Trial summary\n",
            "Hyperparameters:\n",
            "filters0: 120\n",
            "Padding0: valid\n",
            "batchNormalization: False\n",
            "cnn_layers: 2\n",
            "filters1_0: 96\n",
            "Padding1: same\n",
            "batchNormalization_0: True\n",
            "num_layers: 4\n",
            "units_0: 1024\n",
            "activation2_0: relu\n",
            "dropout_value_0: 0.33727681908678286\n",
            "dropout_0: False\n",
            "units_1: 3072\n",
            "activation2_1: tanh\n",
            "dropout_value_1: 0.37361723014039677\n",
            "dropout_1: False\n",
            "lr: 0.0016212546866636098\n",
            "momentum: 0.7855112801148081\n",
            "nesterov: False\n",
            "filters1_1: 32\n",
            "batchNormalization_1: False\n",
            "units_2: 1024\n",
            "activation2_2: relu\n",
            "dropout_value_2: 0.2\n",
            "dropout_2: False\n",
            "units_3: 1024\n",
            "activation2_3: relu\n",
            "dropout_value_3: 0.2\n",
            "dropout_3: False\n",
            "Score: 2.1462581157684326\n"
          ]
        }
      ],
      "source": [
        "tuner.results_summary()"
      ]
    },
    {
      "cell_type": "markdown",
      "id": "8450a43f",
      "metadata": {
        "id": "8450a43f"
      },
      "source": [
        "## Choose best model"
      ]
    },
    {
      "cell_type": "code",
      "execution_count": null,
      "id": "6f92deac",
      "metadata": {
        "id": "6f92deac",
        "outputId": "156a3979-9501-4392-bf0b-a505c9bce2a6"
      },
      "outputs": [
        {
          "name": "stdout",
          "output_type": "stream",
          "text": [
            "# paramters:  7820253\n",
            "Model: \"sequential\"\n",
            "_________________________________________________________________\n",
            " Layer (type)                Output Shape              Param #   \n",
            "=================================================================\n",
            " conv2d (Conv2D)             (None, 30, 30, 120)       1200      \n",
            "                                                                 \n",
            " max_pooling2d (MaxPooling2D  (None, 15, 15, 120)      0         \n",
            " )                                                               \n",
            "                                                                 \n",
            " conv2d_1 (Conv2D)           (None, 15, 15, 96)        103776    \n",
            "                                                                 \n",
            " max_pooling2d_1 (MaxPooling  (None, 7, 7, 96)         0         \n",
            " 2D)                                                             \n",
            "                                                                 \n",
            " batch_normalization (BatchN  (None, 7, 7, 96)         384       \n",
            " ormalization)                                                   \n",
            "                                                                 \n",
            " conv2d_2 (Conv2D)           (None, 7, 7, 32)          27680     \n",
            "                                                                 \n",
            " max_pooling2d_2 (MaxPooling  (None, 3, 3, 32)         0         \n",
            " 2D)                                                             \n",
            "                                                                 \n",
            " flatten (Flatten)           (None, 288)               0         \n",
            "                                                                 \n",
            " dense (Dense)               (None, 1024)              295936    \n",
            "                                                                 \n",
            " dense_1 (Dense)             (None, 3072)              3148800   \n",
            "                                                                 \n",
            " dense_2 (Dense)             (None, 1024)              3146752   \n",
            "                                                                 \n",
            " dense_3 (Dense)             (None, 1024)              1049600   \n",
            "                                                                 \n",
            " dense_4 (Dense)             (None, 45)                46125     \n",
            "                                                                 \n",
            "=================================================================\n",
            "Total params: 7,820,253\n",
            "Trainable params: 7,820,061\n",
            "Non-trainable params: 192\n",
            "_________________________________________________________________\n"
          ]
        }
      ],
      "source": [
        "best_model = tuner.get_best_models()[0]\n",
        "\n",
        "best_model.build(input_shape= (32, 32, 1))\n",
        "\n",
        "best_model.summary()"
      ]
    },
    {
      "cell_type": "markdown",
      "id": "76dd2d5b",
      "metadata": {
        "id": "76dd2d5b"
      },
      "source": [
        "## Visualize best model architecture"
      ]
    },
    {
      "cell_type": "code",
      "execution_count": null,
      "id": "80a35c26",
      "metadata": {
        "id": "80a35c26",
        "outputId": "bdea7a26-e0ee-454a-8bae-c28fd2e037ee"
      },
      "outputs": [
        {
          "data": {
            "image/png": "[encoded data removed]",
            "text/plain": [
              "<IPython.core.display.Image object>"
            ]
          },
          "execution_count": 43,
          "metadata": {},
          "output_type": "execute_result"
        }
      ],
      "source": [
        "keras.utils.plot_model(best_model, to_file=\"best_model.png\", show_shapes= True) "
      ]
    },
    {
      "cell_type": "markdown",
      "id": "9f643ec1",
      "metadata": {
        "id": "9f643ec1"
      },
      "source": [
        "# Retraining models + plotting performances"
      ]
    },
    {
      "cell_type": "code",
      "execution_count": null,
      "id": "36ba739b",
      "metadata": {
        "id": "36ba739b",
        "run_control": {
          "marked": false
        },
        "outputId": "2ebe1dfb-225d-4c5e-82ee-1b6006d902db"
      },
      "outputs": [
        {
          "name": "stdout",
          "output_type": "stream",
          "text": [
            "Epoch 1/5\n",
            "113/113 - 69s - loss: 0.6720 - accuracy: 0.8051 - val_loss: 1.4036 - val_accuracy: 0.5928 - 69s/epoch - 608ms/step\n",
            "Epoch 2/5\n",
            "113/113 - 62s - loss: 0.6136 - accuracy: 0.8278 - val_loss: 1.4465 - val_accuracy: 0.5778 - 62s/epoch - 545ms/step\n",
            "Epoch 3/5\n",
            "113/113 - 62s - loss: 0.5640 - accuracy: 0.8376 - val_loss: 1.5860 - val_accuracy: 0.5356 - 62s/epoch - 552ms/step\n",
            "Epoch 4/5\n",
            "113/113 - 62s - loss: 0.5061 - accuracy: 0.8575 - val_loss: 1.6296 - val_accuracy: 0.5333 - 62s/epoch - 545ms/step\n",
            "Epoch 5/5\n"
          ]
        }
      ],
      "source": [
        "import datetime\n",
        "\n",
        "history = best_model.fit(x_train, y_train, validation_split= 0.2, epochs= 5, batch_size= 64, verbose= 2)\n",
        "\n",
        "loss, accuracy = best_model.evaluate(x_test, y_test, verbose= 0)\n",
        "\n",
        "print(f'Test dataset --> Model loss: {np.round(loss, 2)} - model accuracy: {np.round(accuracy * 100, 1)}%')\n",
        "\n",
        "ct = datetime.datetime.now()\n",
        "\n",
        "show_history(history)\n",
        "\n",
        "plot_history(history, path= f'{int(ct.timestamp())}.png')\n",
        "\n",
        "plt.close()"
      ]
    },
    {
      "cell_type": "code",
      "execution_count": null,
      "id": "551d8549",
      "metadata": {
        "id": "551d8549"
      },
      "outputs": [],
      "source": [
        ""
      ]
    }
  ],
  "metadata": {
    "accelerator": "GPU",
    "colab": {
      "collapsed_sections": [
        "0e03e4c4",
        "545125fe",
        "e5629900",
        "3c0d717c",
        "773f271f",
        "c89318ad"
      ],
      "name": "My_Task1.ipynb",
      "provenance": [],
      "include_colab_link": true
    },
    "kernelspec": {
      "display_name": "Python 3 (ipykernel)",
      "language": "python",
      "name": "python3"
    },
    "language_info": {
      "codemirror_mode": {
        "name": "ipython",
        "version": 3
      },
      "file_extension": ".py",
      "mimetype": "text/x-python",
      "name": "python",
      "nbconvert_exporter": "python",
      "pygments_lexer": "ipython3",
      "version": "3.7.13"
    },
    "toc": {
      "base_numbering": 1,
      "nav_menu": {},
      "number_sections": true,
      "sideBar": true,
      "skip_h1_title": false,
      "title_cell": "Table of Contents",
      "title_sidebar": "Contents",
      "toc_cell": false,
      "toc_position": {},
      "toc_section_display": true,
      "toc_window_display": false
    },
    "varInspector": {
      "cols": {
        "lenName": 16,
        "lenType": 16,
        "lenVar": 40
      },
      "kernels_config": {
        "python": {
          "delete_cmd_postfix": "",
          "delete_cmd_prefix": "del ",
          "library": "var_list.py",
          "varRefreshCmd": "print(var_dic_list())"
        },
        "r": {
          "delete_cmd_postfix": ") ",
          "delete_cmd_prefix": "rm(",
          "library": "var_list.r",
          "varRefreshCmd": "cat(var_dic_list()) "
        }
      },
      "types_to_exclude": [
        "module",
        "function",
        "builtin_function_or_method",
        "instance",
        "_Feature"
      ],
      "window_display": false
    }
  },
  "nbformat": 4,
  "nbformat_minor": 5
}